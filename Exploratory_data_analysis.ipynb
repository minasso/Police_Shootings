{
 "cells": [
  {
   "cell_type": "code",
   "execution_count": 92,
   "metadata": {
    "collapsed": true
   },
   "outputs": [],
   "source": [
    "import pandas as pd\n",
    "import matplotlib.pyplot as plt\n",
    "%matplotlib inline\n",
    "import numpy as np\n",
    "import seaborn as sns\n",
    "sns.set()"
   ]
  },
  {
   "cell_type": "code",
   "execution_count": 93,
   "metadata": {
    "collapsed": true
   },
   "outputs": [],
   "source": [
    "from pylab import rcParams\n",
    "rcParams['figure.figsize'] = 12,6"
   ]
  },
  {
   "cell_type": "code",
   "execution_count": 94,
   "metadata": {
    "collapsed": true
   },
   "outputs": [],
   "source": [
    "df = pd.read_csv('the-counted-2015.csv')"
   ]
  },
  {
   "cell_type": "code",
   "execution_count": 95,
   "metadata": {},
   "outputs": [
    {
     "name": "stdout",
     "output_type": "stream",
     "text": [
      "<class 'pandas.core.frame.DataFrame'>\n",
      "RangeIndex: 1146 entries, 0 to 1145\n",
      "Data columns (total 14 columns):\n",
      "uid                     1146 non-null int64\n",
      "name                    1146 non-null object\n",
      "age                     1146 non-null object\n",
      "gender                  1146 non-null object\n",
      "raceethnicity           1146 non-null object\n",
      "month                   1146 non-null object\n",
      "day                     1146 non-null int64\n",
      "year                    1146 non-null int64\n",
      "streetaddress           1140 non-null object\n",
      "city                    1146 non-null object\n",
      "state                   1146 non-null object\n",
      "classification          1146 non-null object\n",
      "lawenforcementagency    1146 non-null object\n",
      "armed                   1146 non-null object\n",
      "dtypes: int64(3), object(11)\n",
      "memory usage: 125.4+ KB\n"
     ]
    }
   ],
   "source": [
    "df.info()"
   ]
  },
  {
   "cell_type": "code",
   "execution_count": 96,
   "metadata": {
    "scrolled": true
   },
   "outputs": [
    {
     "data": {
      "text/html": [
       "<div>\n",
       "<table border=\"1\" class=\"dataframe\">\n",
       "  <thead>\n",
       "    <tr style=\"text-align: right;\">\n",
       "      <th></th>\n",
       "      <th>uid</th>\n",
       "      <th>name</th>\n",
       "      <th>age</th>\n",
       "      <th>gender</th>\n",
       "      <th>raceethnicity</th>\n",
       "      <th>month</th>\n",
       "      <th>day</th>\n",
       "      <th>year</th>\n",
       "      <th>streetaddress</th>\n",
       "      <th>city</th>\n",
       "      <th>state</th>\n",
       "      <th>classification</th>\n",
       "      <th>lawenforcementagency</th>\n",
       "      <th>armed</th>\n",
       "    </tr>\n",
       "  </thead>\n",
       "  <tbody>\n",
       "    <tr>\n",
       "      <th>0</th>\n",
       "      <td>2</td>\n",
       "      <td>Matthew Ajibade</td>\n",
       "      <td>22</td>\n",
       "      <td>Male</td>\n",
       "      <td>Black</td>\n",
       "      <td>January</td>\n",
       "      <td>1</td>\n",
       "      <td>2015</td>\n",
       "      <td>1050 Carl Griffin Dr</td>\n",
       "      <td>Savannah</td>\n",
       "      <td>GA</td>\n",
       "      <td>Death in custody</td>\n",
       "      <td>Chatham County Sheriff's Office</td>\n",
       "      <td>No</td>\n",
       "    </tr>\n",
       "    <tr>\n",
       "      <th>1</th>\n",
       "      <td>4</td>\n",
       "      <td>Lewis Lembke</td>\n",
       "      <td>47</td>\n",
       "      <td>Male</td>\n",
       "      <td>White</td>\n",
       "      <td>January</td>\n",
       "      <td>2</td>\n",
       "      <td>2015</td>\n",
       "      <td>4505 SW Masters Loop</td>\n",
       "      <td>Aloha</td>\n",
       "      <td>OR</td>\n",
       "      <td>Gunshot</td>\n",
       "      <td>Washington County Sheriff's Office</td>\n",
       "      <td>Firearm</td>\n",
       "    </tr>\n",
       "  </tbody>\n",
       "</table>\n",
       "</div>"
      ],
      "text/plain": [
       "   uid             name age gender raceethnicity    month  day  year  \\\n",
       "0    2  Matthew Ajibade  22   Male         Black  January    1  2015   \n",
       "1    4     Lewis Lembke  47   Male         White  January    2  2015   \n",
       "\n",
       "          streetaddress      city state    classification  \\\n",
       "0  1050 Carl Griffin Dr  Savannah    GA  Death in custody   \n",
       "1  4505 SW Masters Loop     Aloha    OR           Gunshot   \n",
       "\n",
       "                 lawenforcementagency    armed  \n",
       "0     Chatham County Sheriff's Office       No  \n",
       "1  Washington County Sheriff's Office  Firearm  "
      ]
     },
     "execution_count": 96,
     "metadata": {},
     "output_type": "execute_result"
    }
   ],
   "source": [
    "df.head(2)"
   ]
  },
  {
   "cell_type": "code",
   "execution_count": 97,
   "metadata": {},
   "outputs": [],
   "source": [
    "df.drop(['uid','name','lawenforcementagency','streetaddress'],axis=1,inplace=True)"
   ]
  },
  {
   "cell_type": "code",
   "execution_count": 98,
   "metadata": {},
   "outputs": [
    {
     "data": {
      "text/html": [
       "<div>\n",
       "<table border=\"1\" class=\"dataframe\">\n",
       "  <thead>\n",
       "    <tr style=\"text-align: right;\">\n",
       "      <th></th>\n",
       "      <th>age</th>\n",
       "      <th>gender</th>\n",
       "      <th>raceethnicity</th>\n",
       "      <th>month</th>\n",
       "      <th>day</th>\n",
       "      <th>year</th>\n",
       "      <th>city</th>\n",
       "      <th>state</th>\n",
       "      <th>classification</th>\n",
       "      <th>armed</th>\n",
       "    </tr>\n",
       "  </thead>\n",
       "  <tbody>\n",
       "    <tr>\n",
       "      <th>0</th>\n",
       "      <td>22</td>\n",
       "      <td>Male</td>\n",
       "      <td>Black</td>\n",
       "      <td>January</td>\n",
       "      <td>1</td>\n",
       "      <td>2015</td>\n",
       "      <td>Savannah</td>\n",
       "      <td>GA</td>\n",
       "      <td>Death in custody</td>\n",
       "      <td>No</td>\n",
       "    </tr>\n",
       "    <tr>\n",
       "      <th>1</th>\n",
       "      <td>47</td>\n",
       "      <td>Male</td>\n",
       "      <td>White</td>\n",
       "      <td>January</td>\n",
       "      <td>2</td>\n",
       "      <td>2015</td>\n",
       "      <td>Aloha</td>\n",
       "      <td>OR</td>\n",
       "      <td>Gunshot</td>\n",
       "      <td>Firearm</td>\n",
       "    </tr>\n",
       "  </tbody>\n",
       "</table>\n",
       "</div>"
      ],
      "text/plain": [
       "  age gender raceethnicity    month  day  year      city state  \\\n",
       "0  22   Male         Black  January    1  2015  Savannah    GA   \n",
       "1  47   Male         White  January    2  2015     Aloha    OR   \n",
       "\n",
       "     classification    armed  \n",
       "0  Death in custody       No  \n",
       "1           Gunshot  Firearm  "
      ]
     },
     "execution_count": 98,
     "metadata": {},
     "output_type": "execute_result"
    }
   ],
   "source": [
    "df.head(2)"
   ]
  },
  {
   "cell_type": "code",
   "execution_count": 99,
   "metadata": {
    "collapsed": true
   },
   "outputs": [],
   "source": [
    "vc=df.drop(['age','day','year','city','state'],axis=1)"
   ]
  },
  {
   "cell_type": "code",
   "execution_count": 100,
   "metadata": {},
   "outputs": [
    {
     "data": {
      "text/html": [
       "<div>\n",
       "<table border=\"1\" class=\"dataframe\">\n",
       "  <thead>\n",
       "    <tr style=\"text-align: right;\">\n",
       "      <th></th>\n",
       "      <th>gender</th>\n",
       "      <th>raceethnicity</th>\n",
       "      <th>month</th>\n",
       "      <th>classification</th>\n",
       "      <th>armed</th>\n",
       "    </tr>\n",
       "  </thead>\n",
       "  <tbody>\n",
       "    <tr>\n",
       "      <th>0</th>\n",
       "      <td>Male</td>\n",
       "      <td>Black</td>\n",
       "      <td>January</td>\n",
       "      <td>Death in custody</td>\n",
       "      <td>No</td>\n",
       "    </tr>\n",
       "    <tr>\n",
       "      <th>1</th>\n",
       "      <td>Male</td>\n",
       "      <td>White</td>\n",
       "      <td>January</td>\n",
       "      <td>Gunshot</td>\n",
       "      <td>Firearm</td>\n",
       "    </tr>\n",
       "  </tbody>\n",
       "</table>\n",
       "</div>"
      ],
      "text/plain": [
       "  gender raceethnicity    month    classification    armed\n",
       "0   Male         Black  January  Death in custody       No\n",
       "1   Male         White  January           Gunshot  Firearm"
      ]
     },
     "execution_count": 100,
     "metadata": {},
     "output_type": "execute_result"
    }
   ],
   "source": [
    "vc.head(2)"
   ]
  },
  {
   "cell_type": "code",
   "execution_count": 126,
   "metadata": {
    "scrolled": false
   },
   "outputs": [
    {
     "data": {
      "text/plain": [
       "Male              1093\n",
       "Female              52\n",
       "Non-conforming       1\n",
       "Name: gender, dtype: int64"
      ]
     },
     "execution_count": 126,
     "metadata": {},
     "output_type": "execute_result"
    },
    {
     "data": {
      "text/plain": [
       "Male              0.953752\n",
       "Female            0.045375\n",
       "Non-conforming    0.000873\n",
       "Name: gender, dtype: float64"
      ]
     },
     "execution_count": 126,
     "metadata": {},
     "output_type": "execute_result"
    },
    {
     "data": {
      "text/plain": [
       "<matplotlib.axes._subplots.AxesSubplot at 0xbb045b5898>"
      ]
     },
     "execution_count": 126,
     "metadata": {},
     "output_type": "execute_result"
    },
    {
     "data": {
      "image/png": "[encoded data removed]",
      "text/plain": [
       "<matplotlib.figure.Figure at 0xbb045e7080>"
      ]
     },
     "metadata": {},
     "output_type": "display_data"
    },
    {
     "data": {
      "text/plain": [
       "White                     584\n",
       "Black                     307\n",
       "Hispanic/Latino           195\n",
       "Asian/Pacific Islander     24\n",
       "Unknown                    18\n",
       "Native American            13\n",
       "Arab-American               4\n",
       "Other                       1\n",
       "Name: raceethnicity, dtype: int64"
      ]
     },
     "execution_count": 126,
     "metadata": {},
     "output_type": "execute_result"
    },
    {
     "data": {
      "text/plain": [
       "White                     0.509599\n",
       "Black                     0.267888\n",
       "Hispanic/Latino           0.170157\n",
       "Asian/Pacific Islander    0.020942\n",
       "Unknown                   0.015707\n",
       "Native American           0.011344\n",
       "Arab-American             0.003490\n",
       "Other                     0.000873\n",
       "Name: raceethnicity, dtype: float64"
      ]
     },
     "execution_count": 126,
     "metadata": {},
     "output_type": "execute_result"
    },
    {
     "data": {
      "text/plain": [
       "<matplotlib.axes._subplots.AxesSubplot at 0xbb04ae75c0>"
      ]
     },
     "execution_count": 126,
     "metadata": {},
     "output_type": "execute_result"
    },
    {
     "data": {
      "image/png": "[encoded data removed]",
      "text/plain": [
       "<matplotlib.figure.Figure at 0xbb04921080>"
      ]
     },
     "metadata": {},
     "output_type": "display_data"
    },
    {
     "data": {
      "text/plain": [
       "July         124\n",
       "March        113\n",
       "August       102\n",
       "April        102\n",
       "September     97\n",
       "December      93\n",
       "January       91\n",
       "October       91\n",
       "May           86\n",
       "November      84\n",
       "February      83\n",
       "June          80\n",
       "Name: month, dtype: int64"
      ]
     },
     "execution_count": 126,
     "metadata": {},
     "output_type": "execute_result"
    },
    {
     "data": {
      "text/plain": [
       "July         0.108202\n",
       "March        0.098604\n",
       "August       0.089005\n",
       "April        0.089005\n",
       "September    0.084642\n",
       "December     0.081152\n",
       "January      0.079407\n",
       "October      0.079407\n",
       "May          0.075044\n",
       "November     0.073298\n",
       "February     0.072426\n",
       "June         0.069808\n",
       "Name: month, dtype: float64"
      ]
     },
     "execution_count": 126,
     "metadata": {},
     "output_type": "execute_result"
    },
    {
     "data": {
      "text/plain": [
       "<matplotlib.axes._subplots.AxesSubplot at 0xbb047b57b8>"
      ]
     },
     "execution_count": 126,
     "metadata": {},
     "output_type": "execute_result"
    },
    {
     "data": {
      "image/png": "[encoded data removed]",
      "text/plain": [
       "<matplotlib.figure.Figure at 0xbb045c99e8>"
      ]
     },
     "metadata": {},
     "output_type": "display_data"
    },
    {
     "data": {
      "text/plain": [
       "Gunshot              1017\n",
       "Taser                  50\n",
       "Death in custody       47\n",
       "Struck by vehicle      31\n",
       "Other                   1\n",
       "Name: classification, dtype: int64"
      ]
     },
     "execution_count": 126,
     "metadata": {},
     "output_type": "execute_result"
    },
    {
     "data": {
      "text/plain": [
       "Gunshot              0.887435\n",
       "Taser                0.043630\n",
       "Death in custody     0.041012\n",
       "Struck by vehicle    0.027051\n",
       "Other                0.000873\n",
       "Name: classification, dtype: float64"
      ]
     },
     "execution_count": 126,
     "metadata": {},
     "output_type": "execute_result"
    },
    {
     "data": {
      "text/plain": [
       "<matplotlib.axes._subplots.AxesSubplot at 0xbb0516fc88>"
      ]
     },
     "execution_count": 126,
     "metadata": {},
     "output_type": "execute_result"
    },
    {
     "data": {
      "image/png": "[encoded data removed]",
      "text/plain": [
       "<matplotlib.figure.Figure at 0xbb04762940>"
      ]
     },
     "metadata": {},
     "output_type": "display_data"
    },
    {
     "data": {
      "text/plain": [
       "Firearm               554\n",
       "No                    235\n",
       "Knife                 152\n",
       "Other                  64\n",
       "Non-lethal firearm     47\n",
       "Unknown                45\n",
       "Vehicle                44\n",
       "Disputed                5\n",
       "Name: armed, dtype: int64"
      ]
     },
     "execution_count": 126,
     "metadata": {},
     "output_type": "execute_result"
    },
    {
     "data": {
      "text/plain": [
       "Firearm               0.483421\n",
       "No                    0.205061\n",
       "Knife                 0.132635\n",
       "Other                 0.055846\n",
       "Non-lethal firearm    0.041012\n",
       "Unknown               0.039267\n",
       "Vehicle               0.038394\n",
       "Disputed              0.004363\n",
       "Name: armed, dtype: float64"
      ]
     },
     "execution_count": 126,
     "metadata": {},
     "output_type": "execute_result"
    },
    {
     "data": {
      "text/plain": [
       "<matplotlib.axes._subplots.AxesSubplot at 0xbb05106278>"
      ]
     },
     "execution_count": 126,
     "metadata": {},
     "output_type": "execute_result"
    },
    {
     "data": {
      "image/png": "[encoded data removed]",
      "text/plain": [
       "<matplotlib.figure.Figure at 0xbb05166dd8>"
      ]
     },
     "metadata": {},
     "output_type": "display_data"
    }
   ],
   "source": [
    "for col in list(vc.columns):\n",
    "    df[col].value_counts()\n",
    "    df[col].value_counts(normalize=True)\n",
    "    sns.countplot(df[col])\n",
    "    plt.show()"
   ]
  },
  {
   "cell_type": "markdown",
   "metadata": {},
   "source": [
    "What did we learn?\n",
    "95% male\n",
    "\n",
    "White                     0.509599\n",
    "Black                     0.267888\n",
    "Hispanic/Latino           0.170157\n",
    "\n",
    "Firearm               0.483421\n",
    "No                    0.205061\n",
    "Knife                 0.132635"
   ]
  },
  {
   "cell_type": "markdown",
   "metadata": {},
   "source": [
    "Blacks account for only 12.3% of the US population and are involved in 26.8% of police shootings"
   ]
  },
  {
   "cell_type": "markdown",
   "metadata": {},
   "source": [
    "-----------------------------------------------   Second degree analysis   --------------------------------------------------"
   ]
  },
  {
   "cell_type": "markdown",
   "metadata": {},
   "source": [
    "What percent of blacks had guns? What percent of whites had guns?"
   ]
  },
  {
   "cell_type": "code",
   "execution_count": 109,
   "metadata": {
    "scrolled": true
   },
   "outputs": [
    {
     "data": {
      "text/plain": [
       "White                     306\n",
       "Black                     140\n",
       "Hispanic/Latino            83\n",
       "Unknown                     9\n",
       "Asian/Pacific Islander      9\n",
       "Native American             5\n",
       "Other                       1\n",
       "Arab-American               1\n",
       "Name: raceethnicity, dtype: int64"
      ]
     },
     "execution_count": 109,
     "metadata": {},
     "output_type": "execute_result"
    }
   ],
   "source": [
    "df[df['armed']=='Firearm']['raceethnicity'].value_counts()"
   ]
  },
  {
   "cell_type": "code",
   "execution_count": 114,
   "metadata": {},
   "outputs": [
    {
     "data": {
      "text/plain": [
       "'45.6 % of blacks had guns'"
      ]
     },
     "execution_count": 114,
     "metadata": {},
     "output_type": "execute_result"
    }
   ],
   "source": [
    "'{} % of blacks had guns'.format(round(100*140/307,2))"
   ]
  },
  {
   "cell_type": "code",
   "execution_count": 117,
   "metadata": {},
   "outputs": [
    {
     "data": {
      "text/plain": [
       "'52.4 % of whites had guns'"
      ]
     },
     "execution_count": 117,
     "metadata": {},
     "output_type": "execute_result"
    }
   ],
   "source": [
    "'{} % of whites had guns'.format(round(100*306/584,2))"
   ]
  },
  {
   "cell_type": "markdown",
   "metadata": {},
   "source": [
    "So whites were armed more often than blacks"
   ]
  },
  {
   "cell_type": "markdown",
   "metadata": {},
   "source": [
    "Let's look at unarmed whites and blacks"
   ]
  }
 ],
 "metadata": {
  "kernelspec": {
   "display_name": "Python 3",
   "language": "python",
   "name": "python3"
  },
  "language_info": {
   "codemirror_mode": {
    "name": "ipython",
    "version": 3
   },
   "file_extension": ".py",
   "mimetype": "text/x-python",
   "name": "python",
   "nbconvert_exporter": "python",
   "pygments_lexer": "ipython3",
   "version": "3.5.2"
  }
 },
 "nbformat": 4,
 "nbformat_minor": 2
}
