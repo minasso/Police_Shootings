{
 "cells": [
  {
   "cell_type": "code",
   "execution_count": 1,
   "metadata": {
    "collapsed": true
   },
   "outputs": [],
   "source": [
    "import pandas as pd\n",
    "import matplotlib.pyplot as plt\n",
    "%matplotlib inline\n",
    "import numpy as np\n",
    "import seaborn as sns\n",
    "sns.set()\n",
    "from pylab import rcParams\n",
    "rcParams['figure.figsize'] = 12,6"
   ]
  },
  {
   "cell_type": "markdown",
   "metadata": {},
   "source": [
    "Import data"
   ]
  },
  {
   "cell_type": "code",
   "execution_count": 11,
   "metadata": {},
   "outputs": [],
   "source": [
    "#import data\n",
    "import sqlite3\n",
    "con = sqlite3.connect('Data/data.db')\n",
    "sql = 'select * from citizens where \"state\" = \"NY\"'\n",
    "with con:\n",
    "    df = pd.read_sql(sql,con,index_col='id')"
   ]
  },
  {
   "cell_type": "code",
   "execution_count": 12,
   "metadata": {
    "collapsed": true
   },
   "outputs": [],
   "source": [
    "df.reset_index(drop=True,inplace=True)"
   ]
  },
  {
   "cell_type": "code",
   "execution_count": 13,
   "metadata": {},
   "outputs": [
    {
     "data": {
      "text/html": [
       "<div>\n",
       "<table border=\"1\" class=\"dataframe\">\n",
       "  <thead>\n",
       "    <tr style=\"text-align: right;\">\n",
       "      <th></th>\n",
       "      <th>name</th>\n",
       "      <th>age</th>\n",
       "      <th>gender</th>\n",
       "      <th>raceethnicity</th>\n",
       "      <th>armed</th>\n",
       "      <th>month</th>\n",
       "      <th>day</th>\n",
       "      <th>year</th>\n",
       "      <th>streetaddress</th>\n",
       "      <th>city</th>\n",
       "      <th>state</th>\n",
       "      <th>latitude</th>\n",
       "      <th>longitude</th>\n",
       "      <th>classification</th>\n",
       "      <th>lawenforcementagency</th>\n",
       "    </tr>\n",
       "  </thead>\n",
       "  <tbody>\n",
       "    <tr>\n",
       "      <th>0</th>\n",
       "      <td>Louis Becker</td>\n",
       "      <td>87</td>\n",
       "      <td>Male</td>\n",
       "      <td>White</td>\n",
       "      <td>No</td>\n",
       "      <td>January</td>\n",
       "      <td>14</td>\n",
       "      <td>2015</td>\n",
       "      <td>New York State Rte 23 and Cairo Junction Rd</td>\n",
       "      <td>Catskill</td>\n",
       "      <td>NY</td>\n",
       "      <td>42.262431</td>\n",
       "      <td>-73.935739</td>\n",
       "      <td>Struck by vehicle</td>\n",
       "      <td>New York State Police</td>\n",
       "    </tr>\n",
       "    <tr>\n",
       "      <th>1</th>\n",
       "      <td>Vincent Cordaro</td>\n",
       "      <td>57</td>\n",
       "      <td>Male</td>\n",
       "      <td>White</td>\n",
       "      <td>Firearm</td>\n",
       "      <td>February</td>\n",
       "      <td>9</td>\n",
       "      <td>2015</td>\n",
       "      <td>N Little Tor Rd</td>\n",
       "      <td>New City</td>\n",
       "      <td>NY</td>\n",
       "      <td>41.166442</td>\n",
       "      <td>-74.004588</td>\n",
       "      <td>Gunshot</td>\n",
       "      <td>Clarkstown Police Department</td>\n",
       "    </tr>\n",
       "    <tr>\n",
       "      <th>2</th>\n",
       "      <td>James Ellis</td>\n",
       "      <td>44</td>\n",
       "      <td>Male</td>\n",
       "      <td>White</td>\n",
       "      <td>Firearm</td>\n",
       "      <td>March</td>\n",
       "      <td>21</td>\n",
       "      <td>2015</td>\n",
       "      <td>16744 4th Section Rd</td>\n",
       "      <td>Clarendon</td>\n",
       "      <td>NY</td>\n",
       "      <td>43.191919</td>\n",
       "      <td>-78.032726</td>\n",
       "      <td>Gunshot</td>\n",
       "      <td>Orleans County Sheriff's Office</td>\n",
       "    </tr>\n",
       "    <tr>\n",
       "      <th>3</th>\n",
       "      <td>Denzel Brown</td>\n",
       "      <td>21</td>\n",
       "      <td>Male</td>\n",
       "      <td>Black</td>\n",
       "      <td>No</td>\n",
       "      <td>March</td>\n",
       "      <td>22</td>\n",
       "      <td>2015</td>\n",
       "      <td>1851 Sunrise Hwy</td>\n",
       "      <td>Bay Shore</td>\n",
       "      <td>NY</td>\n",
       "      <td>40.740971</td>\n",
       "      <td>-73.237052</td>\n",
       "      <td>Gunshot</td>\n",
       "      <td>Suffolk County Police Department</td>\n",
       "    </tr>\n",
       "    <tr>\n",
       "      <th>4</th>\n",
       "      <td>Donald 'Dontay' Ivy</td>\n",
       "      <td>39</td>\n",
       "      <td>Male</td>\n",
       "      <td>Black</td>\n",
       "      <td>No</td>\n",
       "      <td>April</td>\n",
       "      <td>2</td>\n",
       "      <td>2015</td>\n",
       "      <td>Lark St and Second St</td>\n",
       "      <td>Albany</td>\n",
       "      <td>NY</td>\n",
       "      <td>42.661048</td>\n",
       "      <td>-73.757971</td>\n",
       "      <td>Taser</td>\n",
       "      <td>City of Albany Police Department</td>\n",
       "    </tr>\n",
       "    <tr>\n",
       "      <th>5</th>\n",
       "      <td>Karl Taylor</td>\n",
       "      <td>52</td>\n",
       "      <td>Male</td>\n",
       "      <td>Black</td>\n",
       "      <td>Other</td>\n",
       "      <td>April</td>\n",
       "      <td>14</td>\n",
       "      <td>2015</td>\n",
       "      <td>325 Riverside Dr</td>\n",
       "      <td>Fallsburg</td>\n",
       "      <td>NY</td>\n",
       "      <td>41.741558</td>\n",
       "      <td>-74.589482</td>\n",
       "      <td>Death in custody</td>\n",
       "      <td>New York Department of Corrections and Communi...</td>\n",
       "    </tr>\n",
       "    <tr>\n",
       "      <th>6</th>\n",
       "      <td>Jonathan Efraim</td>\n",
       "      <td>30</td>\n",
       "      <td>Male</td>\n",
       "      <td>White</td>\n",
       "      <td>Firearm</td>\n",
       "      <td>April</td>\n",
       "      <td>22</td>\n",
       "      <td>2015</td>\n",
       "      <td>16802 Hillside Ave</td>\n",
       "      <td>New York</td>\n",
       "      <td>NY</td>\n",
       "      <td>40.709901</td>\n",
       "      <td>-73.794320</td>\n",
       "      <td>Gunshot</td>\n",
       "      <td>New York Police Department</td>\n",
       "    </tr>\n",
       "    <tr>\n",
       "      <th>7</th>\n",
       "      <td>David Felix</td>\n",
       "      <td>24</td>\n",
       "      <td>Male</td>\n",
       "      <td>Black</td>\n",
       "      <td>No</td>\n",
       "      <td>April</td>\n",
       "      <td>25</td>\n",
       "      <td>2015</td>\n",
       "      <td>538 E Sixth St</td>\n",
       "      <td>New York</td>\n",
       "      <td>NY</td>\n",
       "      <td>40.724539</td>\n",
       "      <td>-73.982291</td>\n",
       "      <td>Gunshot</td>\n",
       "      <td>New York Police Department</td>\n",
       "    </tr>\n",
       "    <tr>\n",
       "      <th>8</th>\n",
       "      <td>Michael Murphy</td>\n",
       "      <td>35</td>\n",
       "      <td>Male</td>\n",
       "      <td>White</td>\n",
       "      <td>Knife</td>\n",
       "      <td>May</td>\n",
       "      <td>7</td>\n",
       "      <td>2015</td>\n",
       "      <td>I-84</td>\n",
       "      <td>Beacon</td>\n",
       "      <td>NY</td>\n",
       "      <td>41.517957</td>\n",
       "      <td>-73.972448</td>\n",
       "      <td>Gunshot</td>\n",
       "      <td>Beacon Police Department</td>\n",
       "    </tr>\n",
       "    <tr>\n",
       "      <th>9</th>\n",
       "      <td>David Schwalm</td>\n",
       "      <td>58</td>\n",
       "      <td>Male</td>\n",
       "      <td>White</td>\n",
       "      <td>Firearm</td>\n",
       "      <td>May</td>\n",
       "      <td>8</td>\n",
       "      <td>2015</td>\n",
       "      <td>168 Auringer Rd</td>\n",
       "      <td>Constantania</td>\n",
       "      <td>NY</td>\n",
       "      <td>43.265561</td>\n",
       "      <td>-76.007872</td>\n",
       "      <td>Gunshot</td>\n",
       "      <td>Oswego County Sheriff's Department</td>\n",
       "    </tr>\n",
       "    <tr>\n",
       "      <th>10</th>\n",
       "      <td>Denis Reyes</td>\n",
       "      <td>40</td>\n",
       "      <td>Male</td>\n",
       "      <td>Hispanic/Latino</td>\n",
       "      <td>No</td>\n",
       "      <td>May</td>\n",
       "      <td>15</td>\n",
       "      <td>2015</td>\n",
       "      <td>274 E 194th St</td>\n",
       "      <td>New York</td>\n",
       "      <td>NY</td>\n",
       "      <td>40.864668</td>\n",
       "      <td>-73.892402</td>\n",
       "      <td>Death in custody</td>\n",
       "      <td>New York Police Department</td>\n",
       "    </tr>\n",
       "    <tr>\n",
       "      <th>11</th>\n",
       "      <td>Dalton Branch</td>\n",
       "      <td>51</td>\n",
       "      <td>Male</td>\n",
       "      <td>Black</td>\n",
       "      <td>Firearm</td>\n",
       "      <td>May</td>\n",
       "      <td>26</td>\n",
       "      <td>2015</td>\n",
       "      <td>530 Stanley Ave</td>\n",
       "      <td>New York</td>\n",
       "      <td>NY</td>\n",
       "      <td>40.656971</td>\n",
       "      <td>-73.888674</td>\n",
       "      <td>Gunshot</td>\n",
       "      <td>New York Police Department</td>\n",
       "    </tr>\n",
       "    <tr>\n",
       "      <th>12</th>\n",
       "      <td>Richard Davis</td>\n",
       "      <td>50</td>\n",
       "      <td>Male</td>\n",
       "      <td>Black</td>\n",
       "      <td>No</td>\n",
       "      <td>May</td>\n",
       "      <td>31</td>\n",
       "      <td>2015</td>\n",
       "      <td>Tremont St and Morgan St</td>\n",
       "      <td>Rochester</td>\n",
       "      <td>NY</td>\n",
       "      <td>43.147847</td>\n",
       "      <td>-77.630957</td>\n",
       "      <td>Taser</td>\n",
       "      <td>Rochester Police Department</td>\n",
       "    </tr>\n",
       "    <tr>\n",
       "      <th>13</th>\n",
       "      <td>Joseph Ladd</td>\n",
       "      <td>23</td>\n",
       "      <td>Male</td>\n",
       "      <td>White</td>\n",
       "      <td>Firearm</td>\n",
       "      <td>June</td>\n",
       "      <td>1</td>\n",
       "      <td>2015</td>\n",
       "      <td>271 Greece Ridge Center Dr</td>\n",
       "      <td>Rochester</td>\n",
       "      <td>NY</td>\n",
       "      <td>43.207617</td>\n",
       "      <td>-77.691088</td>\n",
       "      <td>Gunshot</td>\n",
       "      <td>Greece Police Department</td>\n",
       "    </tr>\n",
       "    <tr>\n",
       "      <th>14</th>\n",
       "      <td>Mario Ocasio</td>\n",
       "      <td>51</td>\n",
       "      <td>Male</td>\n",
       "      <td>Hispanic/Latino</td>\n",
       "      <td>Other</td>\n",
       "      <td>June</td>\n",
       "      <td>8</td>\n",
       "      <td>2015</td>\n",
       "      <td>2263 Loring Pl</td>\n",
       "      <td>New York</td>\n",
       "      <td>NY</td>\n",
       "      <td>40.860692</td>\n",
       "      <td>-73.909176</td>\n",
       "      <td>Taser</td>\n",
       "      <td>New York Police Department</td>\n",
       "    </tr>\n",
       "    <tr>\n",
       "      <th>15</th>\n",
       "      <td>Isiah Hampton</td>\n",
       "      <td>19</td>\n",
       "      <td>Male</td>\n",
       "      <td>Black</td>\n",
       "      <td>Firearm</td>\n",
       "      <td>June</td>\n",
       "      <td>10</td>\n",
       "      <td>2015</td>\n",
       "      <td>2000 Valentine Ave</td>\n",
       "      <td>New York</td>\n",
       "      <td>NY</td>\n",
       "      <td>40.850528</td>\n",
       "      <td>-73.900331</td>\n",
       "      <td>Gunshot</td>\n",
       "      <td>New York Police Department</td>\n",
       "    </tr>\n",
       "    <tr>\n",
       "      <th>16</th>\n",
       "      <td>Oleg Tcherniak</td>\n",
       "      <td>58</td>\n",
       "      <td>Male</td>\n",
       "      <td>White</td>\n",
       "      <td>Knife</td>\n",
       "      <td>June</td>\n",
       "      <td>18</td>\n",
       "      <td>2015</td>\n",
       "      <td>3150 Ocean Pkwy</td>\n",
       "      <td>New York</td>\n",
       "      <td>NY</td>\n",
       "      <td>40.575313</td>\n",
       "      <td>-73.969084</td>\n",
       "      <td>Gunshot</td>\n",
       "      <td>New York Police Department</td>\n",
       "    </tr>\n",
       "    <tr>\n",
       "      <th>17</th>\n",
       "      <td>Richard Matt</td>\n",
       "      <td>49</td>\n",
       "      <td>Male</td>\n",
       "      <td>White</td>\n",
       "      <td>Firearm</td>\n",
       "      <td>June</td>\n",
       "      <td>26</td>\n",
       "      <td>2015</td>\n",
       "      <td>Lake Titus</td>\n",
       "      <td>Malone</td>\n",
       "      <td>NY</td>\n",
       "      <td>44.725604</td>\n",
       "      <td>-74.281822</td>\n",
       "      <td>Gunshot</td>\n",
       "      <td>Federal law enforcement agents</td>\n",
       "    </tr>\n",
       "    <tr>\n",
       "      <th>18</th>\n",
       "      <td>Richard LaPort</td>\n",
       "      <td>50</td>\n",
       "      <td>Male</td>\n",
       "      <td>White</td>\n",
       "      <td>Firearm</td>\n",
       "      <td>June</td>\n",
       "      <td>29</td>\n",
       "      <td>2015</td>\n",
       "      <td>96 Fox Hill Rd</td>\n",
       "      <td>Northville</td>\n",
       "      <td>NY</td>\n",
       "      <td>43.208208</td>\n",
       "      <td>-74.069081</td>\n",
       "      <td>Gunshot</td>\n",
       "      <td>Saratoga County Sheriff's Office, New York Sta...</td>\n",
       "    </tr>\n",
       "    <tr>\n",
       "      <th>19</th>\n",
       "      <td>Garland Tyree</td>\n",
       "      <td>38</td>\n",
       "      <td>Male</td>\n",
       "      <td>Black</td>\n",
       "      <td>Firearm</td>\n",
       "      <td>August</td>\n",
       "      <td>14</td>\n",
       "      <td>2015</td>\n",
       "      <td>15 Destiny Ct</td>\n",
       "      <td>New York</td>\n",
       "      <td>NY</td>\n",
       "      <td>40.630468</td>\n",
       "      <td>-74.160691</td>\n",
       "      <td>Gunshot</td>\n",
       "      <td>New York Police Department</td>\n",
       "    </tr>\n",
       "    <tr>\n",
       "      <th>20</th>\n",
       "      <td>Samuel Harrell</td>\n",
       "      <td>30</td>\n",
       "      <td>Male</td>\n",
       "      <td>Black</td>\n",
       "      <td>No</td>\n",
       "      <td>April</td>\n",
       "      <td>21</td>\n",
       "      <td>2015</td>\n",
       "      <td>18 Strack Dr</td>\n",
       "      <td>Beacon</td>\n",
       "      <td>NY</td>\n",
       "      <td>41.521985</td>\n",
       "      <td>-73.950870</td>\n",
       "      <td>Death in custody</td>\n",
       "      <td>New York Department of Corrections and Communi...</td>\n",
       "    </tr>\n",
       "    <tr>\n",
       "      <th>21</th>\n",
       "      <td>Thaddeus Faison</td>\n",
       "      <td>39</td>\n",
       "      <td>Male</td>\n",
       "      <td>Black</td>\n",
       "      <td>Firearm</td>\n",
       "      <td>August</td>\n",
       "      <td>22</td>\n",
       "      <td>2015</td>\n",
       "      <td>5th Ave &amp; 112th St</td>\n",
       "      <td>Troy</td>\n",
       "      <td>NY</td>\n",
       "      <td>42.770161</td>\n",
       "      <td>-73.675396</td>\n",
       "      <td>Gunshot</td>\n",
       "      <td>Troy Police Department</td>\n",
       "    </tr>\n",
       "    <tr>\n",
       "      <th>22</th>\n",
       "      <td>Felix Kumi</td>\n",
       "      <td>61</td>\n",
       "      <td>Male</td>\n",
       "      <td>Black</td>\n",
       "      <td>No</td>\n",
       "      <td>August</td>\n",
       "      <td>28</td>\n",
       "      <td>2015</td>\n",
       "      <td>Beekman Ave and Tecumseh Ave</td>\n",
       "      <td>Mount Vernon</td>\n",
       "      <td>NY</td>\n",
       "      <td>40.907954</td>\n",
       "      <td>-73.824629</td>\n",
       "      <td>Gunshot</td>\n",
       "      <td>New York Police Department</td>\n",
       "    </tr>\n",
       "    <tr>\n",
       "      <th>23</th>\n",
       "      <td>Tian Ma</td>\n",
       "      <td>31</td>\n",
       "      <td>Male</td>\n",
       "      <td>Asian/Pacific Islander</td>\n",
       "      <td>Knife</td>\n",
       "      <td>September</td>\n",
       "      <td>10</td>\n",
       "      <td>2015</td>\n",
       "      <td>301 Swan St</td>\n",
       "      <td>Potsdam</td>\n",
       "      <td>NY</td>\n",
       "      <td>44.668090</td>\n",
       "      <td>-74.991862</td>\n",
       "      <td>Gunshot</td>\n",
       "      <td>Potsdam Police Department</td>\n",
       "    </tr>\n",
       "    <tr>\n",
       "      <th>24</th>\n",
       "      <td>Miguel Espinal</td>\n",
       "      <td>36</td>\n",
       "      <td>Male</td>\n",
       "      <td>Black</td>\n",
       "      <td>No</td>\n",
       "      <td>December</td>\n",
       "      <td>8</td>\n",
       "      <td>2015</td>\n",
       "      <td>Saw Mill River Pkwy</td>\n",
       "      <td>Yonkers</td>\n",
       "      <td>NY</td>\n",
       "      <td>40.926068</td>\n",
       "      <td>-73.880539</td>\n",
       "      <td>Gunshot</td>\n",
       "      <td>New York Police Department</td>\n",
       "    </tr>\n",
       "    <tr>\n",
       "      <th>25</th>\n",
       "      <td>John Tozzi</td>\n",
       "      <td>61</td>\n",
       "      <td>Male</td>\n",
       "      <td>White</td>\n",
       "      <td>Firearm</td>\n",
       "      <td>October</td>\n",
       "      <td>24</td>\n",
       "      <td>2015</td>\n",
       "      <td>NY-32 South</td>\n",
       "      <td>New Paltz</td>\n",
       "      <td>NY</td>\n",
       "      <td>41.747562</td>\n",
       "      <td>-74.086788</td>\n",
       "      <td>Gunshot</td>\n",
       "      <td>New Paltz Police Department</td>\n",
       "    </tr>\n",
       "    <tr>\n",
       "      <th>26</th>\n",
       "      <td>Joseph Seguin</td>\n",
       "      <td>38</td>\n",
       "      <td>Male</td>\n",
       "      <td>White</td>\n",
       "      <td>No</td>\n",
       "      <td>November</td>\n",
       "      <td>30</td>\n",
       "      <td>2015</td>\n",
       "      <td>17 Aimee Ct</td>\n",
       "      <td>Mahopac</td>\n",
       "      <td>NY</td>\n",
       "      <td>41.362806</td>\n",
       "      <td>-73.729627</td>\n",
       "      <td>Taser</td>\n",
       "      <td>Carmel Police Department</td>\n",
       "    </tr>\n",
       "    <tr>\n",
       "      <th>27</th>\n",
       "      <td>Sahlah Ridgeway</td>\n",
       "      <td>32</td>\n",
       "      <td>Female</td>\n",
       "      <td>Black</td>\n",
       "      <td>Firearm</td>\n",
       "      <td>February</td>\n",
       "      <td>12</td>\n",
       "      <td>2016</td>\n",
       "      <td>1313 Butternut St</td>\n",
       "      <td>Syracuse</td>\n",
       "      <td>NY</td>\n",
       "      <td>43.069007</td>\n",
       "      <td>-76.143686</td>\n",
       "      <td>Gunshot</td>\n",
       "      <td>Syracuse Police Department</td>\n",
       "    </tr>\n",
       "    <tr>\n",
       "      <th>28</th>\n",
       "      <td>Deborah Roman</td>\n",
       "      <td>44</td>\n",
       "      <td>Female</td>\n",
       "      <td>White</td>\n",
       "      <td>No</td>\n",
       "      <td>February</td>\n",
       "      <td>9</td>\n",
       "      <td>2016</td>\n",
       "      <td>Schalren Dr</td>\n",
       "      <td>Latham</td>\n",
       "      <td>NY</td>\n",
       "      <td>42.771845</td>\n",
       "      <td>-73.786452</td>\n",
       "      <td>Gunshot</td>\n",
       "      <td>Colonie Police Department</td>\n",
       "    </tr>\n",
       "    <tr>\n",
       "      <th>29</th>\n",
       "      <td>Nathan Roman</td>\n",
       "      <td>10</td>\n",
       "      <td>Male</td>\n",
       "      <td>White</td>\n",
       "      <td>No</td>\n",
       "      <td>February</td>\n",
       "      <td>9</td>\n",
       "      <td>2016</td>\n",
       "      <td>Schalren Dr</td>\n",
       "      <td>Latham</td>\n",
       "      <td>NY</td>\n",
       "      <td>42.771845</td>\n",
       "      <td>-73.786452</td>\n",
       "      <td>Gunshot</td>\n",
       "      <td>Colonie Police Department</td>\n",
       "    </tr>\n",
       "    <tr>\n",
       "      <th>30</th>\n",
       "      <td>Darrell Bosell</td>\n",
       "      <td>34</td>\n",
       "      <td>Male</td>\n",
       "      <td>White</td>\n",
       "      <td>Firearm</td>\n",
       "      <td>March</td>\n",
       "      <td>5</td>\n",
       "      <td>2016</td>\n",
       "      <td>4600 Genesee St</td>\n",
       "      <td>Cheektowaga</td>\n",
       "      <td>NY</td>\n",
       "      <td>42.935357</td>\n",
       "      <td>-78.716241</td>\n",
       "      <td>Gunshot</td>\n",
       "      <td>Cheektowaga Police Department</td>\n",
       "    </tr>\n",
       "    <tr>\n",
       "      <th>31</th>\n",
       "      <td>Philip Vitullo</td>\n",
       "      <td>49</td>\n",
       "      <td>Male</td>\n",
       "      <td>White</td>\n",
       "      <td>Firearm</td>\n",
       "      <td>March</td>\n",
       "      <td>7</td>\n",
       "      <td>2016</td>\n",
       "      <td>3700 Lake Ave</td>\n",
       "      <td>Rochester</td>\n",
       "      <td>NY</td>\n",
       "      <td>43.237688</td>\n",
       "      <td>-77.622861</td>\n",
       "      <td>Gunshot</td>\n",
       "      <td>Rochester Police Department</td>\n",
       "    </tr>\n",
       "    <tr>\n",
       "      <th>32</th>\n",
       "      <td>William Clark III</td>\n",
       "      <td>30</td>\n",
       "      <td>Male</td>\n",
       "      <td>White</td>\n",
       "      <td>Knife</td>\n",
       "      <td>April</td>\n",
       "      <td>10</td>\n",
       "      <td>2016</td>\n",
       "      <td>1061 Roberta Rd</td>\n",
       "      <td>Rotterdam</td>\n",
       "      <td>NY</td>\n",
       "      <td>42.775573</td>\n",
       "      <td>-73.936392</td>\n",
       "      <td>Gunshot</td>\n",
       "      <td>Rotterdam Police Department</td>\n",
       "    </tr>\n",
       "    <tr>\n",
       "      <th>33</th>\n",
       "      <td>George Tillman</td>\n",
       "      <td>32</td>\n",
       "      <td>Male</td>\n",
       "      <td>Black</td>\n",
       "      <td>Firearm</td>\n",
       "      <td>April</td>\n",
       "      <td>17</td>\n",
       "      <td>2016</td>\n",
       "      <td>116th Ave and 135th St</td>\n",
       "      <td>South Ozone Park</td>\n",
       "      <td>NY</td>\n",
       "      <td>40.679040</td>\n",
       "      <td>-73.805424</td>\n",
       "      <td>Gunshot</td>\n",
       "      <td>New York Police Department</td>\n",
       "    </tr>\n",
       "    <tr>\n",
       "      <th>34</th>\n",
       "      <td>Edson Thevenin</td>\n",
       "      <td>38</td>\n",
       "      <td>Male</td>\n",
       "      <td>Black</td>\n",
       "      <td>Vehicle</td>\n",
       "      <td>April</td>\n",
       "      <td>17</td>\n",
       "      <td>2016</td>\n",
       "      <td>6th Ave</td>\n",
       "      <td>Troy</td>\n",
       "      <td>NY</td>\n",
       "      <td>42.757704</td>\n",
       "      <td>-73.679498</td>\n",
       "      <td>Gunshot</td>\n",
       "      <td>Troy Police Department</td>\n",
       "    </tr>\n",
       "    <tr>\n",
       "      <th>35</th>\n",
       "      <td>Carl Baranishyn</td>\n",
       "      <td>51</td>\n",
       "      <td>Male</td>\n",
       "      <td>White</td>\n",
       "      <td>Knife</td>\n",
       "      <td>April</td>\n",
       "      <td>22</td>\n",
       "      <td>2016</td>\n",
       "      <td>12 High Point Rd</td>\n",
       "      <td>Berne</td>\n",
       "      <td>NY</td>\n",
       "      <td>42.589216</td>\n",
       "      <td>-74.182966</td>\n",
       "      <td>Gunshot</td>\n",
       "      <td>New York State Police</td>\n",
       "    </tr>\n",
       "    <tr>\n",
       "      <th>36</th>\n",
       "      <td>Garry Conrad</td>\n",
       "      <td>46</td>\n",
       "      <td>Male</td>\n",
       "      <td>White</td>\n",
       "      <td>Knife</td>\n",
       "      <td>May</td>\n",
       "      <td>18</td>\n",
       "      <td>2016</td>\n",
       "      <td>810 8th Ave</td>\n",
       "      <td>New York</td>\n",
       "      <td>NY</td>\n",
       "      <td>40.761812</td>\n",
       "      <td>-73.986070</td>\n",
       "      <td>Gunshot</td>\n",
       "      <td>New York City Police Department</td>\n",
       "    </tr>\n",
       "    <tr>\n",
       "      <th>37</th>\n",
       "      <td>Richard Gonzalez</td>\n",
       "      <td>55</td>\n",
       "      <td>Male</td>\n",
       "      <td>Hispanic/Latino</td>\n",
       "      <td>No</td>\n",
       "      <td>March</td>\n",
       "      <td>16</td>\n",
       "      <td>2016</td>\n",
       "      <td>416 E 137th St</td>\n",
       "      <td>New York</td>\n",
       "      <td>NY</td>\n",
       "      <td>40.807925</td>\n",
       "      <td>-73.922599</td>\n",
       "      <td>Death in custody</td>\n",
       "      <td>New York Police Department</td>\n",
       "    </tr>\n",
       "    <tr>\n",
       "      <th>38</th>\n",
       "      <td>Joshua Sciscm</td>\n",
       "      <td>33</td>\n",
       "      <td>Male</td>\n",
       "      <td>White</td>\n",
       "      <td>Firearm</td>\n",
       "      <td>June</td>\n",
       "      <td>13</td>\n",
       "      <td>2016</td>\n",
       "      <td>1st Ave and Sunset St</td>\n",
       "      <td>Schenectady</td>\n",
       "      <td>NY</td>\n",
       "      <td>42.801786</td>\n",
       "      <td>-73.954295</td>\n",
       "      <td>Gunshot</td>\n",
       "      <td>Schenectady Police Department</td>\n",
       "    </tr>\n",
       "    <tr>\n",
       "      <th>39</th>\n",
       "      <td>Rashaun Lloyd</td>\n",
       "      <td>25</td>\n",
       "      <td>Male</td>\n",
       "      <td>Black</td>\n",
       "      <td>Firearm</td>\n",
       "      <td>June</td>\n",
       "      <td>19</td>\n",
       "      <td>2016</td>\n",
       "      <td>725 Randall Ave</td>\n",
       "      <td>Bronx</td>\n",
       "      <td>NY</td>\n",
       "      <td>40.811166</td>\n",
       "      <td>-73.893248</td>\n",
       "      <td>Gunshot</td>\n",
       "      <td>New York Police Department</td>\n",
       "    </tr>\n",
       "    <tr>\n",
       "      <th>40</th>\n",
       "      <td>Delrawn Small</td>\n",
       "      <td>37</td>\n",
       "      <td>Male</td>\n",
       "      <td>Black</td>\n",
       "      <td>No</td>\n",
       "      <td>July</td>\n",
       "      <td>4</td>\n",
       "      <td>2016</td>\n",
       "      <td>Atlantic Ave</td>\n",
       "      <td>Brooklyn</td>\n",
       "      <td>NY</td>\n",
       "      <td>40.677725</td>\n",
       "      <td>-73.934453</td>\n",
       "      <td>Gunshot</td>\n",
       "      <td>New York Police Department</td>\n",
       "    </tr>\n",
       "    <tr>\n",
       "      <th>41</th>\n",
       "      <td>Orville Edwards</td>\n",
       "      <td>39</td>\n",
       "      <td>Male</td>\n",
       "      <td>Black</td>\n",
       "      <td>Firearm</td>\n",
       "      <td>July</td>\n",
       "      <td>11</td>\n",
       "      <td>2016</td>\n",
       "      <td>78th St</td>\n",
       "      <td>Brooklyn</td>\n",
       "      <td>NY</td>\n",
       "      <td>40.619914</td>\n",
       "      <td>-74.011420</td>\n",
       "      <td>Gunshot</td>\n",
       "      <td>New York Police Department</td>\n",
       "    </tr>\n",
       "    <tr>\n",
       "      <th>42</th>\n",
       "      <td>Gary Porter</td>\n",
       "      <td>41</td>\n",
       "      <td>Male</td>\n",
       "      <td>Black</td>\n",
       "      <td>Firearm</td>\n",
       "      <td>June</td>\n",
       "      <td>19</td>\n",
       "      <td>2016</td>\n",
       "      <td>Gifford St</td>\n",
       "      <td>Syracuse</td>\n",
       "      <td>NY</td>\n",
       "      <td>43.043165</td>\n",
       "      <td>-76.164053</td>\n",
       "      <td>Gunshot</td>\n",
       "      <td>Syracuse Police Department</td>\n",
       "    </tr>\n",
       "    <tr>\n",
       "      <th>43</th>\n",
       "      <td>Richard Dinneny</td>\n",
       "      <td>53</td>\n",
       "      <td>Male</td>\n",
       "      <td>White</td>\n",
       "      <td>Non-lethal firearm</td>\n",
       "      <td>July</td>\n",
       "      <td>13</td>\n",
       "      <td>2016</td>\n",
       "      <td>Overlook Dr</td>\n",
       "      <td>Middletown</td>\n",
       "      <td>NY</td>\n",
       "      <td>41.428114</td>\n",
       "      <td>-74.427981</td>\n",
       "      <td>Gunshot</td>\n",
       "      <td>Middletown Police Department</td>\n",
       "    </tr>\n",
       "    <tr>\n",
       "      <th>44</th>\n",
       "      <td>Jermaine Johnson</td>\n",
       "      <td>42</td>\n",
       "      <td>Male</td>\n",
       "      <td>Black</td>\n",
       "      <td>Firearm</td>\n",
       "      <td>July</td>\n",
       "      <td>17</td>\n",
       "      <td>2016</td>\n",
       "      <td>Debevoise Ave</td>\n",
       "      <td>Brooklyn</td>\n",
       "      <td>NY</td>\n",
       "      <td>40.719749</td>\n",
       "      <td>-73.939399</td>\n",
       "      <td>Gunshot</td>\n",
       "      <td>New York Police Department</td>\n",
       "    </tr>\n",
       "    <tr>\n",
       "      <th>45</th>\n",
       "      <td>Andrew Esquivel</td>\n",
       "      <td>21</td>\n",
       "      <td>Male</td>\n",
       "      <td>Hispanic/Latino</td>\n",
       "      <td>No</td>\n",
       "      <td>July</td>\n",
       "      <td>17</td>\n",
       "      <td>2016</td>\n",
       "      <td>161 Bedford Ave</td>\n",
       "      <td>Brooklyn</td>\n",
       "      <td>NY</td>\n",
       "      <td>40.718402</td>\n",
       "      <td>-73.956713</td>\n",
       "      <td>Struck by vehicle</td>\n",
       "      <td>New York Police Department</td>\n",
       "    </tr>\n",
       "    <tr>\n",
       "      <th>46</th>\n",
       "      <td>Deric Brown</td>\n",
       "      <td>41</td>\n",
       "      <td>Male</td>\n",
       "      <td>Black</td>\n",
       "      <td>Firearm</td>\n",
       "      <td>October</td>\n",
       "      <td>9</td>\n",
       "      <td>2016</td>\n",
       "      <td>600 Walnut Ave</td>\n",
       "      <td>Syracuse</td>\n",
       "      <td>NY</td>\n",
       "      <td>43.045329</td>\n",
       "      <td>-76.132145</td>\n",
       "      <td>Gunshot</td>\n",
       "      <td>Syracuse Police Department</td>\n",
       "    </tr>\n",
       "    <tr>\n",
       "      <th>47</th>\n",
       "      <td>Kadeem Trotter</td>\n",
       "      <td>24</td>\n",
       "      <td>Male</td>\n",
       "      <td>Black</td>\n",
       "      <td>Non-lethal firearm</td>\n",
       "      <td>September</td>\n",
       "      <td>18</td>\n",
       "      <td>2016</td>\n",
       "      <td>162-25 Liberty Ave</td>\n",
       "      <td>Jamaica</td>\n",
       "      <td>NY</td>\n",
       "      <td>40.702516</td>\n",
       "      <td>-73.791602</td>\n",
       "      <td>Gunshot</td>\n",
       "      <td>New York court officer</td>\n",
       "    </tr>\n",
       "    <tr>\n",
       "      <th>48</th>\n",
       "      <td>Deborah Danner</td>\n",
       "      <td>66</td>\n",
       "      <td>Female</td>\n",
       "      <td>Black</td>\n",
       "      <td>Other</td>\n",
       "      <td>October</td>\n",
       "      <td>18</td>\n",
       "      <td>2016</td>\n",
       "      <td>Pugsley Ave</td>\n",
       "      <td>Bronx</td>\n",
       "      <td>NY</td>\n",
       "      <td>40.825353</td>\n",
       "      <td>-73.855821</td>\n",
       "      <td>Gunshot</td>\n",
       "      <td>New York Police Department</td>\n",
       "    </tr>\n",
       "    <tr>\n",
       "      <th>49</th>\n",
       "      <td>Manuel Rosales</td>\n",
       "      <td>35</td>\n",
       "      <td>Male</td>\n",
       "      <td>Unknown</td>\n",
       "      <td>Firearm</td>\n",
       "      <td>November</td>\n",
       "      <td>4</td>\n",
       "      <td>2016</td>\n",
       "      <td>Beach Ave</td>\n",
       "      <td>Bronx</td>\n",
       "      <td>NY</td>\n",
       "      <td>40.832950</td>\n",
       "      <td>-73.866547</td>\n",
       "      <td>Gunshot</td>\n",
       "      <td>New York Police Department</td>\n",
       "    </tr>\n",
       "    <tr>\n",
       "      <th>50</th>\n",
       "      <td>Erickson Brito</td>\n",
       "      <td>21</td>\n",
       "      <td>Male</td>\n",
       "      <td>Black</td>\n",
       "      <td>Other</td>\n",
       "      <td>November</td>\n",
       "      <td>19</td>\n",
       "      <td>2016</td>\n",
       "      <td>362 Sutter Ave</td>\n",
       "      <td>Brooklyn</td>\n",
       "      <td>NY</td>\n",
       "      <td>40.667322</td>\n",
       "      <td>-73.905904</td>\n",
       "      <td>Gunshot</td>\n",
       "      <td>New York Police Department</td>\n",
       "    </tr>\n",
       "    <tr>\n",
       "      <th>51</th>\n",
       "      <td>Ariel Galarza</td>\n",
       "      <td>49</td>\n",
       "      <td>Male</td>\n",
       "      <td>Unknown</td>\n",
       "      <td>Other</td>\n",
       "      <td>November</td>\n",
       "      <td>2</td>\n",
       "      <td>2016</td>\n",
       "      <td>Mayflower Ave</td>\n",
       "      <td>Bronx</td>\n",
       "      <td>NY</td>\n",
       "      <td>40.845251</td>\n",
       "      <td>-73.834551</td>\n",
       "      <td>Taser</td>\n",
       "      <td>New York Police Department</td>\n",
       "    </tr>\n",
       "  </tbody>\n",
       "</table>\n",
       "</div>"
      ],
      "text/plain": [
       "                   name age  gender           raceethnicity  \\\n",
       "0          Louis Becker  87    Male                   White   \n",
       "1       Vincent Cordaro  57    Male                   White   \n",
       "2           James Ellis  44    Male                   White   \n",
       "3          Denzel Brown  21    Male                   Black   \n",
       "4   Donald 'Dontay' Ivy  39    Male                   Black   \n",
       "5           Karl Taylor  52    Male                   Black   \n",
       "6       Jonathan Efraim  30    Male                   White   \n",
       "7           David Felix  24    Male                   Black   \n",
       "8        Michael Murphy  35    Male                   White   \n",
       "9         David Schwalm  58    Male                   White   \n",
       "10          Denis Reyes  40    Male         Hispanic/Latino   \n",
       "11        Dalton Branch  51    Male                   Black   \n",
       "12        Richard Davis  50    Male                   Black   \n",
       "13          Joseph Ladd  23    Male                   White   \n",
       "14         Mario Ocasio  51    Male         Hispanic/Latino   \n",
       "15        Isiah Hampton  19    Male                   Black   \n",
       "16       Oleg Tcherniak  58    Male                   White   \n",
       "17         Richard Matt  49    Male                   White   \n",
       "18       Richard LaPort  50    Male                   White   \n",
       "19        Garland Tyree  38    Male                   Black   \n",
       "20       Samuel Harrell  30    Male                   Black   \n",
       "21      Thaddeus Faison  39    Male                   Black   \n",
       "22           Felix Kumi  61    Male                   Black   \n",
       "23              Tian Ma  31    Male  Asian/Pacific Islander   \n",
       "24       Miguel Espinal  36    Male                   Black   \n",
       "25           John Tozzi  61    Male                   White   \n",
       "26        Joseph Seguin  38    Male                   White   \n",
       "27      Sahlah Ridgeway  32  Female                   Black   \n",
       "28        Deborah Roman  44  Female                   White   \n",
       "29         Nathan Roman  10    Male                   White   \n",
       "30       Darrell Bosell  34    Male                   White   \n",
       "31       Philip Vitullo  49    Male                   White   \n",
       "32    William Clark III  30    Male                   White   \n",
       "33       George Tillman  32    Male                   Black   \n",
       "34       Edson Thevenin  38    Male                   Black   \n",
       "35      Carl Baranishyn  51    Male                   White   \n",
       "36         Garry Conrad  46    Male                   White   \n",
       "37     Richard Gonzalez  55    Male         Hispanic/Latino   \n",
       "38        Joshua Sciscm  33    Male                   White   \n",
       "39        Rashaun Lloyd  25    Male                   Black   \n",
       "40        Delrawn Small  37    Male                   Black   \n",
       "41      Orville Edwards  39    Male                   Black   \n",
       "42          Gary Porter  41    Male                   Black   \n",
       "43      Richard Dinneny  53    Male                   White   \n",
       "44     Jermaine Johnson  42    Male                   Black   \n",
       "45      Andrew Esquivel  21    Male         Hispanic/Latino   \n",
       "46          Deric Brown  41    Male                   Black   \n",
       "47       Kadeem Trotter  24    Male                   Black   \n",
       "48       Deborah Danner  66  Female                   Black   \n",
       "49       Manuel Rosales  35    Male                 Unknown   \n",
       "50       Erickson Brito  21    Male                   Black   \n",
       "51        Ariel Galarza  49    Male                 Unknown   \n",
       "\n",
       "                 armed      month  day  year  \\\n",
       "0                   No    January   14  2015   \n",
       "1              Firearm   February    9  2015   \n",
       "2              Firearm      March   21  2015   \n",
       "3                   No      March   22  2015   \n",
       "4                   No      April    2  2015   \n",
       "5                Other      April   14  2015   \n",
       "6              Firearm      April   22  2015   \n",
       "7                   No      April   25  2015   \n",
       "8                Knife        May    7  2015   \n",
       "9              Firearm        May    8  2015   \n",
       "10                  No        May   15  2015   \n",
       "11             Firearm        May   26  2015   \n",
       "12                  No        May   31  2015   \n",
       "13             Firearm       June    1  2015   \n",
       "14               Other       June    8  2015   \n",
       "15             Firearm       June   10  2015   \n",
       "16               Knife       June   18  2015   \n",
       "17             Firearm       June   26  2015   \n",
       "18             Firearm       June   29  2015   \n",
       "19             Firearm     August   14  2015   \n",
       "20                  No      April   21  2015   \n",
       "21             Firearm     August   22  2015   \n",
       "22                  No     August   28  2015   \n",
       "23               Knife  September   10  2015   \n",
       "24                  No   December    8  2015   \n",
       "25             Firearm    October   24  2015   \n",
       "26                  No   November   30  2015   \n",
       "27             Firearm   February   12  2016   \n",
       "28                  No   February    9  2016   \n",
       "29                  No   February    9  2016   \n",
       "30             Firearm      March    5  2016   \n",
       "31             Firearm      March    7  2016   \n",
       "32               Knife      April   10  2016   \n",
       "33             Firearm      April   17  2016   \n",
       "34             Vehicle      April   17  2016   \n",
       "35               Knife      April   22  2016   \n",
       "36               Knife        May   18  2016   \n",
       "37                  No      March   16  2016   \n",
       "38             Firearm       June   13  2016   \n",
       "39             Firearm       June   19  2016   \n",
       "40                  No       July    4  2016   \n",
       "41             Firearm       July   11  2016   \n",
       "42             Firearm       June   19  2016   \n",
       "43  Non-lethal firearm       July   13  2016   \n",
       "44             Firearm       July   17  2016   \n",
       "45                  No       July   17  2016   \n",
       "46             Firearm    October    9  2016   \n",
       "47  Non-lethal firearm  September   18  2016   \n",
       "48               Other    October   18  2016   \n",
       "49             Firearm   November    4  2016   \n",
       "50               Other   November   19  2016   \n",
       "51               Other   November    2  2016   \n",
       "\n",
       "                                  streetaddress              city state  \\\n",
       "0   New York State Rte 23 and Cairo Junction Rd          Catskill    NY   \n",
       "1                               N Little Tor Rd          New City    NY   \n",
       "2                          16744 4th Section Rd         Clarendon    NY   \n",
       "3                              1851 Sunrise Hwy         Bay Shore    NY   \n",
       "4                         Lark St and Second St            Albany    NY   \n",
       "5                              325 Riverside Dr         Fallsburg    NY   \n",
       "6                            16802 Hillside Ave          New York    NY   \n",
       "7                                538 E Sixth St          New York    NY   \n",
       "8                                          I-84            Beacon    NY   \n",
       "9                               168 Auringer Rd      Constantania    NY   \n",
       "10                               274 E 194th St          New York    NY   \n",
       "11                              530 Stanley Ave          New York    NY   \n",
       "12                     Tremont St and Morgan St         Rochester    NY   \n",
       "13                   271 Greece Ridge Center Dr         Rochester    NY   \n",
       "14                               2263 Loring Pl          New York    NY   \n",
       "15                           2000 Valentine Ave          New York    NY   \n",
       "16                              3150 Ocean Pkwy          New York    NY   \n",
       "17                                   Lake Titus            Malone    NY   \n",
       "18                               96 Fox Hill Rd        Northville    NY   \n",
       "19                                15 Destiny Ct          New York    NY   \n",
       "20                                 18 Strack Dr            Beacon    NY   \n",
       "21                           5th Ave & 112th St              Troy    NY   \n",
       "22                 Beekman Ave and Tecumseh Ave      Mount Vernon    NY   \n",
       "23                                  301 Swan St           Potsdam    NY   \n",
       "24                          Saw Mill River Pkwy           Yonkers    NY   \n",
       "25                                  NY-32 South         New Paltz    NY   \n",
       "26                                  17 Aimee Ct           Mahopac    NY   \n",
       "27                            1313 Butternut St          Syracuse    NY   \n",
       "28                                  Schalren Dr            Latham    NY   \n",
       "29                                  Schalren Dr            Latham    NY   \n",
       "30                              4600 Genesee St       Cheektowaga    NY   \n",
       "31                                3700 Lake Ave         Rochester    NY   \n",
       "32                              1061 Roberta Rd         Rotterdam    NY   \n",
       "33                       116th Ave and 135th St  South Ozone Park    NY   \n",
       "34                                      6th Ave              Troy    NY   \n",
       "35                             12 High Point Rd             Berne    NY   \n",
       "36                                  810 8th Ave          New York    NY   \n",
       "37                               416 E 137th St          New York    NY   \n",
       "38                        1st Ave and Sunset St       Schenectady    NY   \n",
       "39                              725 Randall Ave             Bronx    NY   \n",
       "40                                 Atlantic Ave          Brooklyn    NY   \n",
       "41                                      78th St          Brooklyn    NY   \n",
       "42                                   Gifford St          Syracuse    NY   \n",
       "43                                  Overlook Dr        Middletown    NY   \n",
       "44                                Debevoise Ave          Brooklyn    NY   \n",
       "45                              161 Bedford Ave          Brooklyn    NY   \n",
       "46                               600 Walnut Ave          Syracuse    NY   \n",
       "47                           162-25 Liberty Ave           Jamaica    NY   \n",
       "48                                  Pugsley Ave             Bronx    NY   \n",
       "49                                    Beach Ave             Bronx    NY   \n",
       "50                               362 Sutter Ave          Brooklyn    NY   \n",
       "51                                Mayflower Ave             Bronx    NY   \n",
       "\n",
       "     latitude  longitude     classification  \\\n",
       "0   42.262431 -73.935739  Struck by vehicle   \n",
       "1   41.166442 -74.004588            Gunshot   \n",
       "2   43.191919 -78.032726            Gunshot   \n",
       "3   40.740971 -73.237052            Gunshot   \n",
       "4   42.661048 -73.757971              Taser   \n",
       "5   41.741558 -74.589482   Death in custody   \n",
       "6   40.709901 -73.794320            Gunshot   \n",
       "7   40.724539 -73.982291            Gunshot   \n",
       "8   41.517957 -73.972448            Gunshot   \n",
       "9   43.265561 -76.007872            Gunshot   \n",
       "10  40.864668 -73.892402   Death in custody   \n",
       "11  40.656971 -73.888674            Gunshot   \n",
       "12  43.147847 -77.630957              Taser   \n",
       "13  43.207617 -77.691088            Gunshot   \n",
       "14  40.860692 -73.909176              Taser   \n",
       "15  40.850528 -73.900331            Gunshot   \n",
       "16  40.575313 -73.969084            Gunshot   \n",
       "17  44.725604 -74.281822            Gunshot   \n",
       "18  43.208208 -74.069081            Gunshot   \n",
       "19  40.630468 -74.160691            Gunshot   \n",
       "20  41.521985 -73.950870   Death in custody   \n",
       "21  42.770161 -73.675396            Gunshot   \n",
       "22  40.907954 -73.824629            Gunshot   \n",
       "23  44.668090 -74.991862            Gunshot   \n",
       "24  40.926068 -73.880539            Gunshot   \n",
       "25  41.747562 -74.086788            Gunshot   \n",
       "26  41.362806 -73.729627              Taser   \n",
       "27  43.069007 -76.143686            Gunshot   \n",
       "28  42.771845 -73.786452            Gunshot   \n",
       "29  42.771845 -73.786452            Gunshot   \n",
       "30  42.935357 -78.716241            Gunshot   \n",
       "31  43.237688 -77.622861            Gunshot   \n",
       "32  42.775573 -73.936392            Gunshot   \n",
       "33  40.679040 -73.805424            Gunshot   \n",
       "34  42.757704 -73.679498            Gunshot   \n",
       "35  42.589216 -74.182966            Gunshot   \n",
       "36  40.761812 -73.986070            Gunshot   \n",
       "37  40.807925 -73.922599   Death in custody   \n",
       "38  42.801786 -73.954295            Gunshot   \n",
       "39  40.811166 -73.893248            Gunshot   \n",
       "40  40.677725 -73.934453            Gunshot   \n",
       "41  40.619914 -74.011420            Gunshot   \n",
       "42  43.043165 -76.164053            Gunshot   \n",
       "43  41.428114 -74.427981            Gunshot   \n",
       "44  40.719749 -73.939399            Gunshot   \n",
       "45  40.718402 -73.956713  Struck by vehicle   \n",
       "46  43.045329 -76.132145            Gunshot   \n",
       "47  40.702516 -73.791602            Gunshot   \n",
       "48  40.825353 -73.855821            Gunshot   \n",
       "49  40.832950 -73.866547            Gunshot   \n",
       "50  40.667322 -73.905904            Gunshot   \n",
       "51  40.845251 -73.834551              Taser   \n",
       "\n",
       "                                 lawenforcementagency  \n",
       "0                               New York State Police  \n",
       "1                        Clarkstown Police Department  \n",
       "2                     Orleans County Sheriff's Office  \n",
       "3                    Suffolk County Police Department  \n",
       "4                    City of Albany Police Department  \n",
       "5   New York Department of Corrections and Communi...  \n",
       "6                          New York Police Department  \n",
       "7                          New York Police Department  \n",
       "8                            Beacon Police Department  \n",
       "9                  Oswego County Sheriff's Department  \n",
       "10                         New York Police Department  \n",
       "11                         New York Police Department  \n",
       "12                        Rochester Police Department  \n",
       "13                           Greece Police Department  \n",
       "14                         New York Police Department  \n",
       "15                         New York Police Department  \n",
       "16                         New York Police Department  \n",
       "17                     Federal law enforcement agents  \n",
       "18  Saratoga County Sheriff's Office, New York Sta...  \n",
       "19                         New York Police Department  \n",
       "20  New York Department of Corrections and Communi...  \n",
       "21                             Troy Police Department  \n",
       "22                         New York Police Department  \n",
       "23                          Potsdam Police Department  \n",
       "24                         New York Police Department  \n",
       "25                        New Paltz Police Department  \n",
       "26                           Carmel Police Department  \n",
       "27                         Syracuse Police Department  \n",
       "28                          Colonie Police Department  \n",
       "29                          Colonie Police Department  \n",
       "30                      Cheektowaga Police Department  \n",
       "31                        Rochester Police Department  \n",
       "32                        Rotterdam Police Department  \n",
       "33                         New York Police Department  \n",
       "34                             Troy Police Department  \n",
       "35                              New York State Police  \n",
       "36                    New York City Police Department  \n",
       "37                         New York Police Department  \n",
       "38                      Schenectady Police Department  \n",
       "39                         New York Police Department  \n",
       "40                         New York Police Department  \n",
       "41                         New York Police Department  \n",
       "42                         Syracuse Police Department  \n",
       "43                       Middletown Police Department  \n",
       "44                         New York Police Department  \n",
       "45                         New York Police Department  \n",
       "46                         Syracuse Police Department  \n",
       "47                             New York court officer  \n",
       "48                         New York Police Department  \n",
       "49                         New York Police Department  \n",
       "50                         New York Police Department  \n",
       "51                         New York Police Department  "
      ]
     },
     "execution_count": 13,
     "metadata": {},
     "output_type": "execute_result"
    }
   ],
   "source": [
    "df"
   ]
  },
  {
   "cell_type": "code",
   "execution_count": 14,
   "metadata": {
    "collapsed": true
   },
   "outputs": [],
   "source": [
    "#drop unneeded columns\n",
    "df.drop(['name','lawenforcementagency','streetaddress'],axis=1,inplace=True)\n",
    "vc=df.drop(['age','day','year','city','state','latitude','longitude'],axis=1)"
   ]
  },
  {
   "cell_type": "code",
   "execution_count": 16,
   "metadata": {},
   "outputs": [
    {
     "data": {
      "text/html": [
       "<div>\n",
       "<table border=\"1\" class=\"dataframe\">\n",
       "  <thead>\n",
       "    <tr style=\"text-align: right;\">\n",
       "      <th></th>\n",
       "      <th>gender</th>\n",
       "      <th>raceethnicity</th>\n",
       "      <th>armed</th>\n",
       "      <th>month</th>\n",
       "      <th>classification</th>\n",
       "    </tr>\n",
       "  </thead>\n",
       "  <tbody>\n",
       "    <tr>\n",
       "      <th>0</th>\n",
       "      <td>Male</td>\n",
       "      <td>White</td>\n",
       "      <td>No</td>\n",
       "      <td>January</td>\n",
       "      <td>Struck by vehicle</td>\n",
       "    </tr>\n",
       "    <tr>\n",
       "      <th>1</th>\n",
       "      <td>Male</td>\n",
       "      <td>White</td>\n",
       "      <td>Firearm</td>\n",
       "      <td>February</td>\n",
       "      <td>Gunshot</td>\n",
       "    </tr>\n",
       "  </tbody>\n",
       "</table>\n",
       "</div>"
      ],
      "text/plain": [
       "  gender raceethnicity    armed     month     classification\n",
       "0   Male         White       No   January  Struck by vehicle\n",
       "1   Male         White  Firearm  February            Gunshot"
      ]
     },
     "execution_count": 16,
     "metadata": {},
     "output_type": "execute_result"
    }
   ],
   "source": [
    "vc.head(2)"
   ]
  },
  {
   "cell_type": "code",
   "execution_count": 17,
   "metadata": {
    "scrolled": false
   },
   "outputs": [
    {
     "data": {
      "text/plain": [
       "Male      49\n",
       "Female     3\n",
       "Name: gender, dtype: int64"
      ]
     },
     "execution_count": 17,
     "metadata": {},
     "output_type": "execute_result"
    },
    {
     "data": {
      "text/plain": [
       "Male      0.942308\n",
       "Female    0.057692\n",
       "Name: gender, dtype: float64"
      ]
     },
     "execution_count": 17,
     "metadata": {},
     "output_type": "execute_result"
    },
    {
     "data": {
      "text/plain": [
       "<matplotlib.axes._subplots.AxesSubplot at 0xd3f1a07d68>"
      ]
     },
     "execution_count": 17,
     "metadata": {},
     "output_type": "execute_result"
    },
    {
     "data": {
      "image/png": "[encoded data removed]",
      "text/plain": [
       "<matplotlib.figure.Figure at 0xd3f19f0d68>"
      ]
     },
     "metadata": {},
     "output_type": "display_data"
    },
    {
     "data": {
      "text/plain": [
       "Black                     24\n",
       "White                     21\n",
       "Hispanic/Latino            4\n",
       "Unknown                    2\n",
       "Asian/Pacific Islander     1\n",
       "Name: raceethnicity, dtype: int64"
      ]
     },
     "execution_count": 17,
     "metadata": {},
     "output_type": "execute_result"
    },
    {
     "data": {
      "text/plain": [
       "Black                     0.461538\n",
       "White                     0.403846\n",
       "Hispanic/Latino           0.076923\n",
       "Unknown                   0.038462\n",
       "Asian/Pacific Islander    0.019231\n",
       "Name: raceethnicity, dtype: float64"
      ]
     },
     "execution_count": 17,
     "metadata": {},
     "output_type": "execute_result"
    },
    {
     "data": {
      "text/plain": [
       "<matplotlib.axes._subplots.AxesSubplot at 0xd3f1a0bcf8>"
      ]
     },
     "execution_count": 17,
     "metadata": {},
     "output_type": "execute_result"
    },
    {
     "data": {
      "image/png": "[encoded data removed]",
      "text/plain": [
       "<matplotlib.figure.Figure at 0xd3f3a4dd68>"
      ]
     },
     "metadata": {},
     "output_type": "display_data"
    },
    {
     "data": {
      "text/plain": [
       "Firearm               23\n",
       "No                    15\n",
       "Knife                  6\n",
       "Other                  5\n",
       "Non-lethal firearm     2\n",
       "Vehicle                1\n",
       "Name: armed, dtype: int64"
      ]
     },
     "execution_count": 17,
     "metadata": {},
     "output_type": "execute_result"
    },
    {
     "data": {
      "text/plain": [
       "Firearm               0.442308\n",
       "No                    0.288462\n",
       "Knife                 0.115385\n",
       "Other                 0.096154\n",
       "Non-lethal firearm    0.038462\n",
       "Vehicle               0.019231\n",
       "Name: armed, dtype: float64"
      ]
     },
     "execution_count": 17,
     "metadata": {},
     "output_type": "execute_result"
    },
    {
     "data": {
      "text/plain": [
       "<matplotlib.axes._subplots.AxesSubplot at 0xd3f3a7fb00>"
      ]
     },
     "execution_count": 17,
     "metadata": {},
     "output_type": "execute_result"
    },
    {
     "data": {
      "image/png": "[encoded data removed]",
      "text/plain": [
       "<matplotlib.figure.Figure at 0xd3f3a710f0>"
      ]
     },
     "metadata": {},
     "output_type": "display_data"
    },
    {
     "data": {
      "text/plain": [
       "April        9\n",
       "June         9\n",
       "May          6\n",
       "July         5\n",
       "March        5\n",
       "November     4\n",
       "February     4\n",
       "August       3\n",
       "October      3\n",
       "September    2\n",
       "December     1\n",
       "January      1\n",
       "Name: month, dtype: int64"
      ]
     },
     "execution_count": 17,
     "metadata": {},
     "output_type": "execute_result"
    },
    {
     "data": {
      "text/plain": [
       "April        0.173077\n",
       "June         0.173077\n",
       "May          0.115385\n",
       "July         0.096154\n",
       "March        0.096154\n",
       "November     0.076923\n",
       "February     0.076923\n",
       "August       0.057692\n",
       "October      0.057692\n",
       "September    0.038462\n",
       "December     0.019231\n",
       "January      0.019231\n",
       "Name: month, dtype: float64"
      ]
     },
     "execution_count": 17,
     "metadata": {},
     "output_type": "execute_result"
    },
    {
     "data": {
      "text/plain": [
       "<matplotlib.axes._subplots.AxesSubplot at 0xd3f3b0f828>"
      ]
     },
     "execution_count": 17,
     "metadata": {},
     "output_type": "execute_result"
    },
    {
     "data": {
      "image/png": "[encoded data removed]",
      "text/plain": [
       "<matplotlib.figure.Figure at 0xd3f3ab2d68>"
      ]
     },
     "metadata": {},
     "output_type": "display_data"
    },
    {
     "data": {
      "text/plain": [
       "Gunshot              41\n",
       "Taser                 5\n",
       "Death in custody      4\n",
       "Struck by vehicle     2\n",
       "Name: classification, dtype: int64"
      ]
     },
     "execution_count": 17,
     "metadata": {},
     "output_type": "execute_result"
    },
    {
     "data": {
      "text/plain": [
       "Gunshot              0.788462\n",
       "Taser                0.096154\n",
       "Death in custody     0.076923\n",
       "Struck by vehicle    0.038462\n",
       "Name: classification, dtype: float64"
      ]
     },
     "execution_count": 17,
     "metadata": {},
     "output_type": "execute_result"
    },
    {
     "data": {
      "text/plain": [
       "<matplotlib.axes._subplots.AxesSubplot at 0xd3f3b8a5f8>"
      ]
     },
     "execution_count": 17,
     "metadata": {},
     "output_type": "execute_result"
    },
    {
     "data": {
      "image/png": "[encoded data removed]",
      "text/plain": [
       "<matplotlib.figure.Figure at 0xd3f3bed0f0>"
      ]
     },
     "metadata": {},
     "output_type": "display_data"
    }
   ],
   "source": [
    "#print number of instances, percentages, and bar graph for each category\n",
    "for col in list(vc.columns):\n",
    "    df[col].value_counts()\n",
    "    df[col].value_counts(normalize=True)\n",
    "    sns.countplot(df[col])\n",
    "    plt.show()"
   ]
  },
  {
   "cell_type": "markdown",
   "metadata": {},
   "source": [
    "## NY Numbers\n",
    "\n",
    "94% Male\n",
    "### Race\n",
    "White                     0.403846\n",
    "\n",
    "Black                     0.461538\n",
    "\n",
    "Hispanic/Latino           0.076923\n",
    "### Weapon\n",
    "Firearm               0.442308\n",
    "\n",
    "No                    0.288462\n",
    "\n",
    "Knife                 0.115385"
   ]
  },
  {
   "cell_type": "markdown",
   "metadata": {},
   "source": [
    "Let's compare that to National Numbers:"
   ]
  },
  {
   "cell_type": "markdown",
   "metadata": {},
   "source": [
    "## National Numbers\n",
    "\n",
    "95% Male\n",
    "## Race\n",
    "White                     0.509599\n",
    "\n",
    "Black                     0.267888\n",
    "\n",
    "Hispanic/Latino           0.170157\n",
    "\n",
    "## Weapon\n",
    "Firearm               0.483421\n",
    "\n",
    "No                    0.205061\n",
    "\n",
    "Knife                 0.132635\n"
   ]
  },
  {
   "cell_type": "markdown",
   "metadata": {},
   "source": [
    "Blacks account for only 12.3% of the US population and have been involved in 26.8% of police shootings"
   ]
  },
  {
   "cell_type": "markdown",
   "metadata": {},
   "source": [
    "-----------------------------------------------   Second degree analysis   --------------------------------------------------"
   ]
  },
  {
   "cell_type": "markdown",
   "metadata": {},
   "source": [
    "What percent of blacks had guns? What percent of whites had guns?"
   ]
  },
  {
   "cell_type": "code",
   "execution_count": 18,
   "metadata": {
    "scrolled": true
   },
   "outputs": [
    {
     "data": {
      "text/plain": [
       "White      11\n",
       "Black      11\n",
       "Unknown     1\n",
       "Name: raceethnicity, dtype: int64"
      ]
     },
     "execution_count": 18,
     "metadata": {},
     "output_type": "execute_result"
    }
   ],
   "source": [
    "df[df['armed']=='Firearm']['raceethnicity'].value_counts()"
   ]
  },
  {
   "cell_type": "code",
   "execution_count": 19,
   "metadata": {},
   "outputs": [
    {
     "data": {
      "text/plain": [
       "'45.6 % of blacks had guns'"
      ]
     },
     "execution_count": 19,
     "metadata": {},
     "output_type": "execute_result"
    }
   ],
   "source": [
    "'{} % of blacks had guns'.format(round(100*140/307,2))"
   ]
  },
  {
   "cell_type": "code",
   "execution_count": 20,
   "metadata": {},
   "outputs": [
    {
     "data": {
      "text/plain": [
       "'52.4 % of whites had guns'"
      ]
     },
     "execution_count": 20,
     "metadata": {},
     "output_type": "execute_result"
    }
   ],
   "source": [
    "'{} % of whites had guns'.format(round(100*306/584,2))"
   ]
  },
  {
   "cell_type": "markdown",
   "metadata": {},
   "source": [
    "So whites were armed more often than blacks"
   ]
  },
  {
   "cell_type": "markdown",
   "metadata": {},
   "source": [
    "Let's look at unarmed whites and blacks"
   ]
  },
  {
   "cell_type": "code",
   "execution_count": 21,
   "metadata": {},
   "outputs": [
    {
     "data": {
      "text/plain": [
       "Black              8\n",
       "White              4\n",
       "Hispanic/Latino    3\n",
       "Name: raceethnicity, dtype: int64"
      ]
     },
     "execution_count": 21,
     "metadata": {},
     "output_type": "execute_result"
    }
   ],
   "source": [
    "df[df['armed']=='No']['raceethnicity'].value_counts()"
   ]
  },
  {
   "cell_type": "code",
   "execution_count": 22,
   "metadata": {},
   "outputs": [
    {
     "data": {
      "text/plain": [
       "'percent of whites who were unarmed 18.151 %:'"
      ]
     },
     "execution_count": 22,
     "metadata": {},
     "output_type": "execute_result"
    }
   ],
   "source": [
    "'percent of whites who were unarmed {} %:'.format(round(100*106/584,3))"
   ]
  },
  {
   "cell_type": "code",
   "execution_count": 23,
   "metadata": {},
   "outputs": [
    {
     "data": {
      "text/plain": [
       "'percent of blacks who were unarmed 25.733 %:'"
      ]
     },
     "execution_count": 23,
     "metadata": {},
     "output_type": "execute_result"
    }
   ],
   "source": [
    "'percent of blacks who were unarmed {} %:'.format(round(100*79/307,3))"
   ]
  },
  {
   "cell_type": "markdown",
   "metadata": {},
   "source": [
    "So a higher percentage of blacks who were shot were unarmed"
   ]
  },
  {
   "cell_type": "code",
   "execution_count": 24,
   "metadata": {},
   "outputs": [
    {
     "data": {
      "text/plain": [
       "Black              8\n",
       "White              4\n",
       "Hispanic/Latino    3\n",
       "Name: raceethnicity, dtype: int64"
      ]
     },
     "execution_count": 24,
     "metadata": {},
     "output_type": "execute_result"
    }
   ],
   "source": [
    "df[df['armed']=='No']['raceethnicity'].value_counts()"
   ]
  },
  {
   "cell_type": "markdown",
   "metadata": {},
   "source": [
    "Age ---------------------------------------------------"
   ]
  },
  {
   "cell_type": "code",
   "execution_count": 25,
   "metadata": {},
   "outputs": [
    {
     "data": {
      "text/html": [
       "<div>\n",
       "<table border=\"1\" class=\"dataframe\">\n",
       "  <thead>\n",
       "    <tr style=\"text-align: right;\">\n",
       "      <th></th>\n",
       "      <th>age</th>\n",
       "      <th>gender</th>\n",
       "      <th>raceethnicity</th>\n",
       "      <th>armed</th>\n",
       "      <th>month</th>\n",
       "      <th>day</th>\n",
       "      <th>year</th>\n",
       "      <th>city</th>\n",
       "      <th>state</th>\n",
       "      <th>latitude</th>\n",
       "      <th>longitude</th>\n",
       "      <th>classification</th>\n",
       "    </tr>\n",
       "  </thead>\n",
       "  <tbody>\n",
       "  </tbody>\n",
       "</table>\n",
       "</div>"
      ],
      "text/plain": [
       "Empty DataFrame\n",
       "Columns: [age, gender, raceethnicity, armed, month, day, year, city, state, latitude, longitude, classification]\n",
       "Index: []"
      ]
     },
     "execution_count": 25,
     "metadata": {},
     "output_type": "execute_result"
    }
   ],
   "source": [
    "df[df['age']=='Unknown']"
   ]
  },
  {
   "cell_type": "markdown",
   "metadata": {},
   "source": [
    "Now let's normalize the race data with respect to the population"
   ]
  },
  {
   "cell_type": "code",
   "execution_count": 26,
   "metadata": {},
   "outputs": [
    {
     "data": {
      "text/plain": [
       "Black                     24\n",
       "White                     21\n",
       "Hispanic/Latino            4\n",
       "Unknown                    2\n",
       "Asian/Pacific Islander     1\n",
       "Name: raceethnicity, dtype: int64"
      ]
     },
     "execution_count": 26,
     "metadata": {},
     "output_type": "execute_result"
    }
   ],
   "source": [
    "df['raceethnicity'].value_counts()"
   ]
  },
  {
   "cell_type": "code",
   "execution_count": 27,
   "metadata": {
    "collapsed": true
   },
   "outputs": [],
   "source": [
    "# races = \"White, Black, Hispanic/Latino, Asian/Pacific Islander, Native American\".split(', ')\n",
    "races = \"White, Black, Hispanic/Latino\".split(', ')"
   ]
  },
  {
   "cell_type": "code",
   "execution_count": 28,
   "metadata": {
    "collapsed": true
   },
   "outputs": [],
   "source": [
    "rf = df[df['raceethnicity'].apply(lambda x: x in races)]"
   ]
  },
  {
   "cell_type": "code",
   "execution_count": 29,
   "metadata": {
    "collapsed": true
   },
   "outputs": [],
   "source": [
    "rf.reset_index(drop=True,inplace=True)"
   ]
  },
  {
   "cell_type": "code",
   "execution_count": 30,
   "metadata": {},
   "outputs": [
    {
     "data": {
      "text/plain": [
       "Black              24\n",
       "White              21\n",
       "Hispanic/Latino     4\n",
       "Name: raceethnicity, dtype: int64"
      ]
     },
     "execution_count": 30,
     "metadata": {},
     "output_type": "execute_result"
    }
   ],
   "source": [
    "rf['raceethnicity'].value_counts()"
   ]
  },
  {
   "cell_type": "code",
   "execution_count": 31,
   "metadata": {},
   "outputs": [
    {
     "data": {
      "text/plain": [
       "Black              0.489796\n",
       "White              0.428571\n",
       "Hispanic/Latino    0.081633\n",
       "Name: raceethnicity, dtype: float64"
      ]
     },
     "execution_count": 31,
     "metadata": {},
     "output_type": "execute_result"
    }
   ],
   "source": [
    "rf['raceethnicity'].value_counts(normalize=True)"
   ]
  },
  {
   "cell_type": "code",
   "execution_count": 32,
   "metadata": {},
   "outputs": [
    {
     "data": {
      "text/plain": [
       "<matplotlib.axes._subplots.AxesSubplot at 0xd3f3bed860>"
      ]
     },
     "execution_count": 32,
     "metadata": {},
     "output_type": "execute_result"
    },
    {
     "data": {
      "image/png": "[encoded data removed]",
      "text/plain": [
       "<matplotlib.figure.Figure at 0xd3f1a07400>"
      ]
     },
     "metadata": {},
     "output_type": "display_data"
    }
   ],
   "source": [
    "sns.countplot(rf['raceethnicity'])"
   ]
  },
  {
   "cell_type": "markdown",
   "metadata": {},
   "source": [
    "Results: Of those killed in NY, 48% were black, 40% were white, 8% were hispanic\n",
    "\n",
    "Let's see how this compares to the population numbers"
   ]
  },
  {
   "cell_type": "code",
   "execution_count": 33,
   "metadata": {
    "collapsed": true
   },
   "outputs": [],
   "source": [
    "# Population percentages from 2010 US Census Data\n",
    "# white, black, hispanic = [69.9,17.7,19] (NY)\n",
    "# white, black, hispanic = [72.4,12.6,16.3] (US)"
   ]
  },
  {
   "cell_type": "markdown",
   "metadata": {},
   "source": [
    "Poverty Numbers"
   ]
  },
  {
   "cell_type": "code",
   "execution_count": 34,
   "metadata": {
    "collapsed": true
   },
   "outputs": [],
   "source": [
    "#ny poverty numbers by race in 2016 \n",
    "# source: https://www.kff.org/other/state-indicator/poverty-rate-by-raceethnicity/?currentTimeframe=0&sortModel=%7B%22colId%22:%22Location%22,%22sort%22:%22asc%22%7D\n",
    "# Poverty rate for the population as a whole is 12.7%\n",
    "\n",
    "# white,black,hispanic = [9,22,20] (US) \n",
    "# white,black,hispanic = [8,17,19] (NY)"
   ]
  }
 ],
 "metadata": {
  "kernelspec": {
   "display_name": "Python 3",
   "language": "python",
   "name": "python3"
  },
  "language_info": {
   "codemirror_mode": {
    "name": "ipython",
    "version": 3
   },
   "file_extension": ".py",
   "mimetype": "text/x-python",
   "name": "python",
   "nbconvert_exporter": "python",
   "pygments_lexer": "ipython3",
   "version": "3.5.2"
  }
 },
 "nbformat": 4,
 "nbformat_minor": 2
}
