{
 "cells": [
  {
   "cell_type": "code",
   "execution_count": 1,
   "metadata": {
    "collapsed": true
   },
   "outputs": [],
   "source": [
    "import pandas as pd\n",
    "import matplotlib.pyplot as plt\n",
    "%matplotlib inline\n",
    "import numpy as np\n",
    "import seaborn as sns\n",
    "sns.set()\n",
    "from pylab import rcParams\n",
    "rcParams['figure.figsize'] = 12,6"
   ]
  },
  {
   "cell_type": "markdown",
   "metadata": {},
   "source": [
    "Import data"
   ]
  },
  {
   "cell_type": "code",
   "execution_count": 2,
   "metadata": {
    "collapsed": true
   },
   "outputs": [],
   "source": [
    "df1 = pd.read_csv('2015.csv',encoding = \"ISO-8859-1\")\n",
    "df2 = pd.read_csv('2016.csv',encoding = \"ISO-8859-1\")\n",
    "dfc = pd.concat([df1,df2])\n",
    "df = dfc[dfc['state']=='NY'].copy()\n",
    "df = df[df['lawenforcementagency']=='New York Police Department'].copy()\n",
    "df.reset_index(inplace=True,drop=True)"
   ]
  },
  {
   "cell_type": "code",
   "execution_count": 11,
   "metadata": {
    "collapsed": true
   },
   "outputs": [],
   "source": [
    "#drop unneeded columns\n",
    "df.drop(['uid','name','streetaddress'],axis=1,inplace=True)\n",
    "vc=df.drop(['age','day','year','city','state'],axis=1)"
   ]
  },
  {
   "cell_type": "code",
   "execution_count": 14,
   "metadata": {},
   "outputs": [
    {
     "data": {
      "text/html": [
       "<div>\n",
       "<table border=\"1\" class=\"dataframe\">\n",
       "  <thead>\n",
       "    <tr style=\"text-align: right;\">\n",
       "      <th></th>\n",
       "      <th>gender</th>\n",
       "      <th>raceethnicity</th>\n",
       "      <th>month</th>\n",
       "      <th>classification</th>\n",
       "      <th>lawenforcementagency</th>\n",
       "      <th>armed</th>\n",
       "    </tr>\n",
       "  </thead>\n",
       "  <tbody>\n",
       "    <tr>\n",
       "      <th>0</th>\n",
       "      <td>Male</td>\n",
       "      <td>White</td>\n",
       "      <td>April</td>\n",
       "      <td>Gunshot</td>\n",
       "      <td>New York Police Department</td>\n",
       "      <td>Firearm</td>\n",
       "    </tr>\n",
       "    <tr>\n",
       "      <th>1</th>\n",
       "      <td>Male</td>\n",
       "      <td>Black</td>\n",
       "      <td>April</td>\n",
       "      <td>Gunshot</td>\n",
       "      <td>New York Police Department</td>\n",
       "      <td>No</td>\n",
       "    </tr>\n",
       "  </tbody>\n",
       "</table>\n",
       "</div>"
      ],
      "text/plain": [
       "  gender raceethnicity  month classification        lawenforcementagency  \\\n",
       "0   Male         White  April        Gunshot  New York Police Department   \n",
       "1   Male         Black  April        Gunshot  New York Police Department   \n",
       "\n",
       "     armed  \n",
       "0  Firearm  \n",
       "1       No  "
      ]
     },
     "execution_count": 14,
     "metadata": {},
     "output_type": "execute_result"
    }
   ],
   "source": [
    "vc.head(2)"
   ]
  },
  {
   "cell_type": "code",
   "execution_count": 15,
   "metadata": {
    "scrolled": false
   },
   "outputs": [
    {
     "data": {
      "text/plain": [
       "Male      20\n",
       "Female     1\n",
       "Name: gender, dtype: int64"
      ]
     },
     "execution_count": 15,
     "metadata": {},
     "output_type": "execute_result"
    },
    {
     "data": {
      "text/plain": [
       "Male      0.952381\n",
       "Female    0.047619\n",
       "Name: gender, dtype: float64"
      ]
     },
     "execution_count": 15,
     "metadata": {},
     "output_type": "execute_result"
    },
    {
     "data": {
      "text/plain": [
       "<matplotlib.axes._subplots.AxesSubplot at 0x2d0987aa90>"
      ]
     },
     "execution_count": 15,
     "metadata": {},
     "output_type": "execute_result"
    },
    {
     "data": {
      "image/png": "[encoded data removed]",
      "text/plain": [
       "<matplotlib.figure.Figure at 0x2d09885a20>"
      ]
     },
     "metadata": {},
     "output_type": "display_data"
    },
    {
     "data": {
      "text/plain": [
       "Black              13\n",
       "Hispanic/Latino     4\n",
       "White               2\n",
       "Unknown             2\n",
       "Name: raceethnicity, dtype: int64"
      ]
     },
     "execution_count": 15,
     "metadata": {},
     "output_type": "execute_result"
    },
    {
     "data": {
      "text/plain": [
       "Black              0.619048\n",
       "Hispanic/Latino    0.190476\n",
       "White              0.095238\n",
       "Unknown            0.095238\n",
       "Name: raceethnicity, dtype: float64"
      ]
     },
     "execution_count": 15,
     "metadata": {},
     "output_type": "execute_result"
    },
    {
     "data": {
      "text/plain": [
       "<matplotlib.axes._subplots.AxesSubplot at 0x2d09929710>"
      ]
     },
     "execution_count": 15,
     "metadata": {},
     "output_type": "execute_result"
    },
    {
     "data": {
      "image/png": "[encoded data removed]",
      "text/plain": [
       "<matplotlib.figure.Figure at 0x2d09830828>"
      ]
     },
     "metadata": {},
     "output_type": "display_data"
    },
    {
     "data": {
      "text/plain": [
       "July        4\n",
       "June        4\n",
       "November    3\n",
       "April       3\n",
       "August      2\n",
       "May         2\n",
       "December    1\n",
       "March       1\n",
       "October     1\n",
       "Name: month, dtype: int64"
      ]
     },
     "execution_count": 15,
     "metadata": {},
     "output_type": "execute_result"
    },
    {
     "data": {
      "text/plain": [
       "July        0.190476\n",
       "June        0.190476\n",
       "November    0.142857\n",
       "April       0.142857\n",
       "August      0.095238\n",
       "May         0.095238\n",
       "December    0.047619\n",
       "March       0.047619\n",
       "October     0.047619\n",
       "Name: month, dtype: float64"
      ]
     },
     "execution_count": 15,
     "metadata": {},
     "output_type": "execute_result"
    },
    {
     "data": {
      "text/plain": [
       "<matplotlib.axes._subplots.AxesSubplot at 0x2d0995e438>"
      ]
     },
     "execution_count": 15,
     "metadata": {},
     "output_type": "execute_result"
    },
    {
     "data": {
      "image/png": "[encoded data removed]",
      "text/plain": [
       "<matplotlib.figure.Figure at 0x2d0996e518>"
      ]
     },
     "metadata": {},
     "output_type": "display_data"
    },
    {
     "data": {
      "text/plain": [
       "Gunshot              16\n",
       "Death in custody      2\n",
       "Taser                 2\n",
       "Struck by vehicle     1\n",
       "Name: classification, dtype: int64"
      ]
     },
     "execution_count": 15,
     "metadata": {},
     "output_type": "execute_result"
    },
    {
     "data": {
      "text/plain": [
       "Gunshot              0.761905\n",
       "Death in custody     0.095238\n",
       "Taser                0.095238\n",
       "Struck by vehicle    0.047619\n",
       "Name: classification, dtype: float64"
      ]
     },
     "execution_count": 15,
     "metadata": {},
     "output_type": "execute_result"
    },
    {
     "data": {
      "text/plain": [
       "<matplotlib.axes._subplots.AxesSubplot at 0x2d099dcdd8>"
      ]
     },
     "execution_count": 15,
     "metadata": {},
     "output_type": "execute_result"
    },
    {
     "data": {
      "image/png": "[encoded data removed]",
      "text/plain": [
       "<matplotlib.figure.Figure at 0x2d0ba90e10>"
      ]
     },
     "metadata": {},
     "output_type": "display_data"
    },
    {
     "data": {
      "text/plain": [
       "New York Police Department    21\n",
       "Name: lawenforcementagency, dtype: int64"
      ]
     },
     "execution_count": 15,
     "metadata": {},
     "output_type": "execute_result"
    },
    {
     "data": {
      "text/plain": [
       "New York Police Department    1.0\n",
       "Name: lawenforcementagency, dtype: float64"
      ]
     },
     "execution_count": 15,
     "metadata": {},
     "output_type": "execute_result"
    },
    {
     "data": {
      "text/plain": [
       "<matplotlib.axes._subplots.AxesSubplot at 0x2d0bacccf8>"
      ]
     },
     "execution_count": 15,
     "metadata": {},
     "output_type": "execute_result"
    },
    {
     "data": {
      "image/png": "[encoded data removed]",
      "text/plain": [
       "<matplotlib.figure.Figure at 0x2d0bb5ef98>"
      ]
     },
     "metadata": {},
     "output_type": "display_data"
    },
    {
     "data": {
      "text/plain": [
       "Firearm    9\n",
       "No         7\n",
       "Other      4\n",
       "Knife      1\n",
       "Name: armed, dtype: int64"
      ]
     },
     "execution_count": 15,
     "metadata": {},
     "output_type": "execute_result"
    },
    {
     "data": {
      "text/plain": [
       "Firearm    0.428571\n",
       "No         0.333333\n",
       "Other      0.190476\n",
       "Knife      0.047619\n",
       "Name: armed, dtype: float64"
      ]
     },
     "execution_count": 15,
     "metadata": {},
     "output_type": "execute_result"
    },
    {
     "data": {
      "text/plain": [
       "<matplotlib.axes._subplots.AxesSubplot at 0x2d0bb86390>"
      ]
     },
     "execution_count": 15,
     "metadata": {},
     "output_type": "execute_result"
    },
    {
     "data": {
      "image/png": "[encoded data removed]",
      "text/plain": [
       "<matplotlib.figure.Figure at 0x2d0bbbf3c8>"
      ]
     },
     "metadata": {},
     "output_type": "display_data"
    }
   ],
   "source": [
    "#print number of instances, percentages, and bar graph for each category\n",
    "for col in list(vc.columns):\n",
    "    df[col].value_counts()\n",
    "    df[col].value_counts(normalize=True)\n",
    "    sns.countplot(df[col])\n",
    "    plt.show()"
   ]
  },
  {
   "cell_type": "markdown",
   "metadata": {},
   "source": [
    "## NY Numbers\n",
    "\n",
    "94% Male\n",
    "### Race\n",
    "White                     0.403846\n",
    "\n",
    "Black                     0.461538\n",
    "\n",
    "Hispanic/Latino           0.076923\n",
    "### Weapon\n",
    "Firearm               0.442308\n",
    "\n",
    "No                    0.288462\n",
    "\n",
    "Knife                 0.115385"
   ]
  },
  {
   "cell_type": "markdown",
   "metadata": {},
   "source": [
    "Let's compare that to National Numbers:"
   ]
  },
  {
   "cell_type": "markdown",
   "metadata": {},
   "source": [
    "## National Numbers\n",
    "\n",
    "95% Male\n",
    "## Race\n",
    "White                     0.509599\n",
    "\n",
    "Black                     0.267888\n",
    "\n",
    "Hispanic/Latino           0.170157\n",
    "\n",
    "## Weapon\n",
    "Firearm               0.483421\n",
    "\n",
    "No                    0.205061\n",
    "\n",
    "Knife                 0.132635\n"
   ]
  },
  {
   "cell_type": "markdown",
   "metadata": {},
   "source": [
    "Blacks account for only 12.3% of the US population and have been involved in 26.8% of police shootings"
   ]
  },
  {
   "cell_type": "markdown",
   "metadata": {},
   "source": [
    "-----------------------------------------------   Second degree analysis   --------------------------------------------------"
   ]
  },
  {
   "cell_type": "markdown",
   "metadata": {},
   "source": [
    "What percent of blacks had guns? What percent of whites had guns?"
   ]
  },
  {
   "cell_type": "code",
   "execution_count": 16,
   "metadata": {
    "scrolled": true
   },
   "outputs": [
    {
     "data": {
      "text/plain": [
       "Black      7\n",
       "Unknown    1\n",
       "White      1\n",
       "Name: raceethnicity, dtype: int64"
      ]
     },
     "execution_count": 16,
     "metadata": {},
     "output_type": "execute_result"
    }
   ],
   "source": [
    "df[df['armed']=='Firearm']['raceethnicity'].value_counts()"
   ]
  },
  {
   "cell_type": "code",
   "execution_count": 17,
   "metadata": {},
   "outputs": [
    {
     "data": {
      "text/plain": [
       "'45.6 % of blacks had guns'"
      ]
     },
     "execution_count": 17,
     "metadata": {},
     "output_type": "execute_result"
    }
   ],
   "source": [
    "'{} % of blacks had guns'.format(round(100*140/307,2))"
   ]
  },
  {
   "cell_type": "code",
   "execution_count": 18,
   "metadata": {},
   "outputs": [
    {
     "data": {
      "text/plain": [
       "'52.4 % of whites had guns'"
      ]
     },
     "execution_count": 18,
     "metadata": {},
     "output_type": "execute_result"
    }
   ],
   "source": [
    "'{} % of whites had guns'.format(round(100*306/584,2))"
   ]
  },
  {
   "cell_type": "markdown",
   "metadata": {},
   "source": [
    "So whites were armed more often than blacks"
   ]
  },
  {
   "cell_type": "markdown",
   "metadata": {},
   "source": [
    "Let's look at unarmed whites and blacks"
   ]
  },
  {
   "cell_type": "code",
   "execution_count": 19,
   "metadata": {},
   "outputs": [
    {
     "data": {
      "text/plain": [
       "Black              4\n",
       "Hispanic/Latino    3\n",
       "Name: raceethnicity, dtype: int64"
      ]
     },
     "execution_count": 19,
     "metadata": {},
     "output_type": "execute_result"
    }
   ],
   "source": [
    "df[df['armed']=='No']['raceethnicity'].value_counts()"
   ]
  },
  {
   "cell_type": "code",
   "execution_count": 20,
   "metadata": {},
   "outputs": [
    {
     "data": {
      "text/plain": [
       "'percent of whites who were unarmed 18.151 %:'"
      ]
     },
     "execution_count": 20,
     "metadata": {},
     "output_type": "execute_result"
    }
   ],
   "source": [
    "'percent of whites who were unarmed {} %:'.format(round(100*106/584,3))"
   ]
  },
  {
   "cell_type": "code",
   "execution_count": 21,
   "metadata": {},
   "outputs": [
    {
     "data": {
      "text/plain": [
       "'percent of blacks who were unarmed 25.733 %:'"
      ]
     },
     "execution_count": 21,
     "metadata": {},
     "output_type": "execute_result"
    }
   ],
   "source": [
    "'percent of blacks who were unarmed {} %:'.format(round(100*79/307,3))"
   ]
  },
  {
   "cell_type": "markdown",
   "metadata": {},
   "source": [
    "So a higher percentage of blacks who were shot were unarmed"
   ]
  },
  {
   "cell_type": "code",
   "execution_count": 22,
   "metadata": {},
   "outputs": [
    {
     "data": {
      "text/plain": [
       "Black              4\n",
       "Hispanic/Latino    3\n",
       "Name: raceethnicity, dtype: int64"
      ]
     },
     "execution_count": 22,
     "metadata": {},
     "output_type": "execute_result"
    }
   ],
   "source": [
    "df[df['armed']=='No']['raceethnicity'].value_counts()"
   ]
  },
  {
   "cell_type": "markdown",
   "metadata": {},
   "source": [
    "Age ---------------------------------------------------"
   ]
  },
  {
   "cell_type": "code",
   "execution_count": 23,
   "metadata": {},
   "outputs": [
    {
     "data": {
      "text/html": [
       "<div>\n",
       "<table border=\"1\" class=\"dataframe\">\n",
       "  <thead>\n",
       "    <tr style=\"text-align: right;\">\n",
       "      <th></th>\n",
       "      <th>age</th>\n",
       "      <th>gender</th>\n",
       "      <th>raceethnicity</th>\n",
       "      <th>month</th>\n",
       "      <th>day</th>\n",
       "      <th>year</th>\n",
       "      <th>city</th>\n",
       "      <th>state</th>\n",
       "      <th>classification</th>\n",
       "      <th>lawenforcementagency</th>\n",
       "      <th>armed</th>\n",
       "    </tr>\n",
       "  </thead>\n",
       "  <tbody>\n",
       "  </tbody>\n",
       "</table>\n",
       "</div>"
      ],
      "text/plain": [
       "Empty DataFrame\n",
       "Columns: [age, gender, raceethnicity, month, day, year, city, state, classification, lawenforcementagency, armed]\n",
       "Index: []"
      ]
     },
     "execution_count": 23,
     "metadata": {},
     "output_type": "execute_result"
    }
   ],
   "source": [
    "df[df['age']=='Unknown']"
   ]
  },
  {
   "cell_type": "markdown",
   "metadata": {},
   "source": [
    "Now let's normalize the race data with respect to the population"
   ]
  },
  {
   "cell_type": "code",
   "execution_count": 24,
   "metadata": {},
   "outputs": [
    {
     "data": {
      "text/plain": [
       "Black              13\n",
       "Hispanic/Latino     4\n",
       "White               2\n",
       "Unknown             2\n",
       "Name: raceethnicity, dtype: int64"
      ]
     },
     "execution_count": 24,
     "metadata": {},
     "output_type": "execute_result"
    }
   ],
   "source": [
    "df['raceethnicity'].value_counts()"
   ]
  },
  {
   "cell_type": "code",
   "execution_count": 25,
   "metadata": {
    "collapsed": true
   },
   "outputs": [],
   "source": [
    "# races = \"White, Black, Hispanic/Latino, Asian/Pacific Islander, Native American\".split(', ')\n",
    "races = \"White, Black, Hispanic/Latino\".split(', ')"
   ]
  },
  {
   "cell_type": "code",
   "execution_count": 26,
   "metadata": {},
   "outputs": [
    {
     "data": {
      "text/plain": [
       "['White', 'Black', 'Hispanic/Latino']"
      ]
     },
     "execution_count": 26,
     "metadata": {},
     "output_type": "execute_result"
    }
   ],
   "source": [
    "races"
   ]
  },
  {
   "cell_type": "code",
   "execution_count": 27,
   "metadata": {},
   "outputs": [
    {
     "data": {
      "text/html": [
       "<div>\n",
       "<table border=\"1\" class=\"dataframe\">\n",
       "  <thead>\n",
       "    <tr style=\"text-align: right;\">\n",
       "      <th></th>\n",
       "      <th>age</th>\n",
       "      <th>gender</th>\n",
       "      <th>raceethnicity</th>\n",
       "      <th>month</th>\n",
       "      <th>day</th>\n",
       "      <th>year</th>\n",
       "      <th>city</th>\n",
       "      <th>state</th>\n",
       "      <th>classification</th>\n",
       "      <th>lawenforcementagency</th>\n",
       "      <th>armed</th>\n",
       "    </tr>\n",
       "  </thead>\n",
       "  <tbody>\n",
       "    <tr>\n",
       "      <th>0</th>\n",
       "      <td>30</td>\n",
       "      <td>Male</td>\n",
       "      <td>White</td>\n",
       "      <td>April</td>\n",
       "      <td>22</td>\n",
       "      <td>2015</td>\n",
       "      <td>New York</td>\n",
       "      <td>NY</td>\n",
       "      <td>Gunshot</td>\n",
       "      <td>New York Police Department</td>\n",
       "      <td>Firearm</td>\n",
       "    </tr>\n",
       "    <tr>\n",
       "      <th>1</th>\n",
       "      <td>24</td>\n",
       "      <td>Male</td>\n",
       "      <td>Black</td>\n",
       "      <td>April</td>\n",
       "      <td>25</td>\n",
       "      <td>2015</td>\n",
       "      <td>New York</td>\n",
       "      <td>NY</td>\n",
       "      <td>Gunshot</td>\n",
       "      <td>New York Police Department</td>\n",
       "      <td>No</td>\n",
       "    </tr>\n",
       "    <tr>\n",
       "      <th>2</th>\n",
       "      <td>40</td>\n",
       "      <td>Male</td>\n",
       "      <td>Hispanic/Latino</td>\n",
       "      <td>May</td>\n",
       "      <td>15</td>\n",
       "      <td>2015</td>\n",
       "      <td>New York</td>\n",
       "      <td>NY</td>\n",
       "      <td>Death in custody</td>\n",
       "      <td>New York Police Department</td>\n",
       "      <td>No</td>\n",
       "    </tr>\n",
       "    <tr>\n",
       "      <th>3</th>\n",
       "      <td>51</td>\n",
       "      <td>Male</td>\n",
       "      <td>Black</td>\n",
       "      <td>May</td>\n",
       "      <td>26</td>\n",
       "      <td>2015</td>\n",
       "      <td>New York</td>\n",
       "      <td>NY</td>\n",
       "      <td>Gunshot</td>\n",
       "      <td>New York Police Department</td>\n",
       "      <td>Firearm</td>\n",
       "    </tr>\n",
       "    <tr>\n",
       "      <th>4</th>\n",
       "      <td>51</td>\n",
       "      <td>Male</td>\n",
       "      <td>Hispanic/Latino</td>\n",
       "      <td>June</td>\n",
       "      <td>8</td>\n",
       "      <td>2015</td>\n",
       "      <td>New York</td>\n",
       "      <td>NY</td>\n",
       "      <td>Taser</td>\n",
       "      <td>New York Police Department</td>\n",
       "      <td>Other</td>\n",
       "    </tr>\n",
       "    <tr>\n",
       "      <th>5</th>\n",
       "      <td>19</td>\n",
       "      <td>Male</td>\n",
       "      <td>Black</td>\n",
       "      <td>June</td>\n",
       "      <td>10</td>\n",
       "      <td>2015</td>\n",
       "      <td>New York</td>\n",
       "      <td>NY</td>\n",
       "      <td>Gunshot</td>\n",
       "      <td>New York Police Department</td>\n",
       "      <td>Firearm</td>\n",
       "    </tr>\n",
       "    <tr>\n",
       "      <th>6</th>\n",
       "      <td>58</td>\n",
       "      <td>Male</td>\n",
       "      <td>White</td>\n",
       "      <td>June</td>\n",
       "      <td>18</td>\n",
       "      <td>2015</td>\n",
       "      <td>New York</td>\n",
       "      <td>NY</td>\n",
       "      <td>Gunshot</td>\n",
       "      <td>New York Police Department</td>\n",
       "      <td>Knife</td>\n",
       "    </tr>\n",
       "    <tr>\n",
       "      <th>7</th>\n",
       "      <td>38</td>\n",
       "      <td>Male</td>\n",
       "      <td>Black</td>\n",
       "      <td>August</td>\n",
       "      <td>14</td>\n",
       "      <td>2015</td>\n",
       "      <td>New York</td>\n",
       "      <td>NY</td>\n",
       "      <td>Gunshot</td>\n",
       "      <td>New York Police Department</td>\n",
       "      <td>Firearm</td>\n",
       "    </tr>\n",
       "    <tr>\n",
       "      <th>8</th>\n",
       "      <td>61</td>\n",
       "      <td>Male</td>\n",
       "      <td>Black</td>\n",
       "      <td>August</td>\n",
       "      <td>28</td>\n",
       "      <td>2015</td>\n",
       "      <td>Mount Vernon</td>\n",
       "      <td>NY</td>\n",
       "      <td>Gunshot</td>\n",
       "      <td>New York Police Department</td>\n",
       "      <td>No</td>\n",
       "    </tr>\n",
       "    <tr>\n",
       "      <th>9</th>\n",
       "      <td>36</td>\n",
       "      <td>Male</td>\n",
       "      <td>Black</td>\n",
       "      <td>December</td>\n",
       "      <td>8</td>\n",
       "      <td>2015</td>\n",
       "      <td>Yonkers</td>\n",
       "      <td>NY</td>\n",
       "      <td>Gunshot</td>\n",
       "      <td>New York Police Department</td>\n",
       "      <td>No</td>\n",
       "    </tr>\n",
       "    <tr>\n",
       "      <th>10</th>\n",
       "      <td>55</td>\n",
       "      <td>Male</td>\n",
       "      <td>Hispanic/Latino</td>\n",
       "      <td>March</td>\n",
       "      <td>16</td>\n",
       "      <td>2016</td>\n",
       "      <td>New York</td>\n",
       "      <td>NY</td>\n",
       "      <td>Death in custody</td>\n",
       "      <td>New York Police Department</td>\n",
       "      <td>No</td>\n",
       "    </tr>\n",
       "    <tr>\n",
       "      <th>11</th>\n",
       "      <td>32</td>\n",
       "      <td>Male</td>\n",
       "      <td>Black</td>\n",
       "      <td>April</td>\n",
       "      <td>17</td>\n",
       "      <td>2016</td>\n",
       "      <td>South Ozone Park</td>\n",
       "      <td>NY</td>\n",
       "      <td>Gunshot</td>\n",
       "      <td>New York Police Department</td>\n",
       "      <td>Firearm</td>\n",
       "    </tr>\n",
       "    <tr>\n",
       "      <th>12</th>\n",
       "      <td>25</td>\n",
       "      <td>Male</td>\n",
       "      <td>Black</td>\n",
       "      <td>June</td>\n",
       "      <td>19</td>\n",
       "      <td>2016</td>\n",
       "      <td>Bronx</td>\n",
       "      <td>NY</td>\n",
       "      <td>Gunshot</td>\n",
       "      <td>New York Police Department</td>\n",
       "      <td>Firearm</td>\n",
       "    </tr>\n",
       "    <tr>\n",
       "      <th>13</th>\n",
       "      <td>37</td>\n",
       "      <td>Male</td>\n",
       "      <td>Black</td>\n",
       "      <td>July</td>\n",
       "      <td>4</td>\n",
       "      <td>2016</td>\n",
       "      <td>Brooklyn</td>\n",
       "      <td>NY</td>\n",
       "      <td>Gunshot</td>\n",
       "      <td>New York Police Department</td>\n",
       "      <td>No</td>\n",
       "    </tr>\n",
       "    <tr>\n",
       "      <th>14</th>\n",
       "      <td>39</td>\n",
       "      <td>Male</td>\n",
       "      <td>Black</td>\n",
       "      <td>July</td>\n",
       "      <td>11</td>\n",
       "      <td>2016</td>\n",
       "      <td>Brooklyn</td>\n",
       "      <td>NY</td>\n",
       "      <td>Gunshot</td>\n",
       "      <td>New York Police Department</td>\n",
       "      <td>Firearm</td>\n",
       "    </tr>\n",
       "    <tr>\n",
       "      <th>15</th>\n",
       "      <td>42</td>\n",
       "      <td>Male</td>\n",
       "      <td>Black</td>\n",
       "      <td>July</td>\n",
       "      <td>17</td>\n",
       "      <td>2016</td>\n",
       "      <td>Brooklyn</td>\n",
       "      <td>NY</td>\n",
       "      <td>Gunshot</td>\n",
       "      <td>New York Police Department</td>\n",
       "      <td>Firearm</td>\n",
       "    </tr>\n",
       "    <tr>\n",
       "      <th>16</th>\n",
       "      <td>21</td>\n",
       "      <td>Male</td>\n",
       "      <td>Hispanic/Latino</td>\n",
       "      <td>July</td>\n",
       "      <td>17</td>\n",
       "      <td>2016</td>\n",
       "      <td>Brooklyn</td>\n",
       "      <td>NY</td>\n",
       "      <td>Struck by vehicle</td>\n",
       "      <td>New York Police Department</td>\n",
       "      <td>No</td>\n",
       "    </tr>\n",
       "    <tr>\n",
       "      <th>17</th>\n",
       "      <td>66</td>\n",
       "      <td>Female</td>\n",
       "      <td>Black</td>\n",
       "      <td>October</td>\n",
       "      <td>18</td>\n",
       "      <td>2016</td>\n",
       "      <td>Bronx</td>\n",
       "      <td>NY</td>\n",
       "      <td>Gunshot</td>\n",
       "      <td>New York Police Department</td>\n",
       "      <td>Other</td>\n",
       "    </tr>\n",
       "    <tr>\n",
       "      <th>18</th>\n",
       "      <td>49</td>\n",
       "      <td>Male</td>\n",
       "      <td>Unknown</td>\n",
       "      <td>November</td>\n",
       "      <td>2</td>\n",
       "      <td>2016</td>\n",
       "      <td>Bronx</td>\n",
       "      <td>NY</td>\n",
       "      <td>Taser</td>\n",
       "      <td>New York Police Department</td>\n",
       "      <td>Other</td>\n",
       "    </tr>\n",
       "    <tr>\n",
       "      <th>19</th>\n",
       "      <td>35</td>\n",
       "      <td>Male</td>\n",
       "      <td>Unknown</td>\n",
       "      <td>November</td>\n",
       "      <td>4</td>\n",
       "      <td>2016</td>\n",
       "      <td>Bronx</td>\n",
       "      <td>NY</td>\n",
       "      <td>Gunshot</td>\n",
       "      <td>New York Police Department</td>\n",
       "      <td>Firearm</td>\n",
       "    </tr>\n",
       "    <tr>\n",
       "      <th>20</th>\n",
       "      <td>21</td>\n",
       "      <td>Male</td>\n",
       "      <td>Black</td>\n",
       "      <td>November</td>\n",
       "      <td>19</td>\n",
       "      <td>2016</td>\n",
       "      <td>Brooklyn</td>\n",
       "      <td>NY</td>\n",
       "      <td>Gunshot</td>\n",
       "      <td>New York Police Department</td>\n",
       "      <td>Other</td>\n",
       "    </tr>\n",
       "  </tbody>\n",
       "</table>\n",
       "</div>"
      ],
      "text/plain": [
       "   age  gender    raceethnicity     month  day  year              city state  \\\n",
       "0   30    Male            White     April   22  2015          New York    NY   \n",
       "1   24    Male            Black     April   25  2015          New York    NY   \n",
       "2   40    Male  Hispanic/Latino       May   15  2015          New York    NY   \n",
       "3   51    Male            Black       May   26  2015          New York    NY   \n",
       "4   51    Male  Hispanic/Latino      June    8  2015          New York    NY   \n",
       "5   19    Male            Black      June   10  2015          New York    NY   \n",
       "6   58    Male            White      June   18  2015          New York    NY   \n",
       "7   38    Male            Black    August   14  2015          New York    NY   \n",
       "8   61    Male            Black    August   28  2015      Mount Vernon    NY   \n",
       "9   36    Male            Black  December    8  2015           Yonkers    NY   \n",
       "10  55    Male  Hispanic/Latino     March   16  2016          New York    NY   \n",
       "11  32    Male            Black     April   17  2016  South Ozone Park    NY   \n",
       "12  25    Male            Black      June   19  2016             Bronx    NY   \n",
       "13  37    Male            Black      July    4  2016          Brooklyn    NY   \n",
       "14  39    Male            Black      July   11  2016          Brooklyn    NY   \n",
       "15  42    Male            Black      July   17  2016          Brooklyn    NY   \n",
       "16  21    Male  Hispanic/Latino      July   17  2016          Brooklyn    NY   \n",
       "17  66  Female            Black   October   18  2016             Bronx    NY   \n",
       "18  49    Male          Unknown  November    2  2016             Bronx    NY   \n",
       "19  35    Male          Unknown  November    4  2016             Bronx    NY   \n",
       "20  21    Male            Black  November   19  2016          Brooklyn    NY   \n",
       "\n",
       "       classification        lawenforcementagency    armed  \n",
       "0             Gunshot  New York Police Department  Firearm  \n",
       "1             Gunshot  New York Police Department       No  \n",
       "2    Death in custody  New York Police Department       No  \n",
       "3             Gunshot  New York Police Department  Firearm  \n",
       "4               Taser  New York Police Department    Other  \n",
       "5             Gunshot  New York Police Department  Firearm  \n",
       "6             Gunshot  New York Police Department    Knife  \n",
       "7             Gunshot  New York Police Department  Firearm  \n",
       "8             Gunshot  New York Police Department       No  \n",
       "9             Gunshot  New York Police Department       No  \n",
       "10   Death in custody  New York Police Department       No  \n",
       "11            Gunshot  New York Police Department  Firearm  \n",
       "12            Gunshot  New York Police Department  Firearm  \n",
       "13            Gunshot  New York Police Department       No  \n",
       "14            Gunshot  New York Police Department  Firearm  \n",
       "15            Gunshot  New York Police Department  Firearm  \n",
       "16  Struck by vehicle  New York Police Department       No  \n",
       "17            Gunshot  New York Police Department    Other  \n",
       "18              Taser  New York Police Department    Other  \n",
       "19            Gunshot  New York Police Department  Firearm  \n",
       "20            Gunshot  New York Police Department    Other  "
      ]
     },
     "execution_count": 27,
     "metadata": {},
     "output_type": "execute_result"
    }
   ],
   "source": [
    "df"
   ]
  },
  {
   "cell_type": "code",
   "execution_count": 28,
   "metadata": {
    "collapsed": true
   },
   "outputs": [],
   "source": [
    "rf = df[df['raceethnicity'].apply(lambda x: x in races)]"
   ]
  },
  {
   "cell_type": "code",
   "execution_count": 29,
   "metadata": {
    "collapsed": true
   },
   "outputs": [],
   "source": [
    "rf.reset_index(drop=True,inplace=True)"
   ]
  },
  {
   "cell_type": "code",
   "execution_count": 30,
   "metadata": {
    "scrolled": true
   },
   "outputs": [
    {
     "data": {
      "text/html": [
       "<div>\n",
       "<table border=\"1\" class=\"dataframe\">\n",
       "  <thead>\n",
       "    <tr style=\"text-align: right;\">\n",
       "      <th></th>\n",
       "      <th>age</th>\n",
       "      <th>gender</th>\n",
       "      <th>raceethnicity</th>\n",
       "      <th>month</th>\n",
       "      <th>day</th>\n",
       "      <th>year</th>\n",
       "      <th>city</th>\n",
       "      <th>state</th>\n",
       "      <th>classification</th>\n",
       "      <th>lawenforcementagency</th>\n",
       "      <th>armed</th>\n",
       "    </tr>\n",
       "  </thead>\n",
       "  <tbody>\n",
       "    <tr>\n",
       "      <th>0</th>\n",
       "      <td>30</td>\n",
       "      <td>Male</td>\n",
       "      <td>White</td>\n",
       "      <td>April</td>\n",
       "      <td>22</td>\n",
       "      <td>2015</td>\n",
       "      <td>New York</td>\n",
       "      <td>NY</td>\n",
       "      <td>Gunshot</td>\n",
       "      <td>New York Police Department</td>\n",
       "      <td>Firearm</td>\n",
       "    </tr>\n",
       "    <tr>\n",
       "      <th>1</th>\n",
       "      <td>24</td>\n",
       "      <td>Male</td>\n",
       "      <td>Black</td>\n",
       "      <td>April</td>\n",
       "      <td>25</td>\n",
       "      <td>2015</td>\n",
       "      <td>New York</td>\n",
       "      <td>NY</td>\n",
       "      <td>Gunshot</td>\n",
       "      <td>New York Police Department</td>\n",
       "      <td>No</td>\n",
       "    </tr>\n",
       "    <tr>\n",
       "      <th>2</th>\n",
       "      <td>40</td>\n",
       "      <td>Male</td>\n",
       "      <td>Hispanic/Latino</td>\n",
       "      <td>May</td>\n",
       "      <td>15</td>\n",
       "      <td>2015</td>\n",
       "      <td>New York</td>\n",
       "      <td>NY</td>\n",
       "      <td>Death in custody</td>\n",
       "      <td>New York Police Department</td>\n",
       "      <td>No</td>\n",
       "    </tr>\n",
       "    <tr>\n",
       "      <th>3</th>\n",
       "      <td>51</td>\n",
       "      <td>Male</td>\n",
       "      <td>Black</td>\n",
       "      <td>May</td>\n",
       "      <td>26</td>\n",
       "      <td>2015</td>\n",
       "      <td>New York</td>\n",
       "      <td>NY</td>\n",
       "      <td>Gunshot</td>\n",
       "      <td>New York Police Department</td>\n",
       "      <td>Firearm</td>\n",
       "    </tr>\n",
       "    <tr>\n",
       "      <th>4</th>\n",
       "      <td>51</td>\n",
       "      <td>Male</td>\n",
       "      <td>Hispanic/Latino</td>\n",
       "      <td>June</td>\n",
       "      <td>8</td>\n",
       "      <td>2015</td>\n",
       "      <td>New York</td>\n",
       "      <td>NY</td>\n",
       "      <td>Taser</td>\n",
       "      <td>New York Police Department</td>\n",
       "      <td>Other</td>\n",
       "    </tr>\n",
       "    <tr>\n",
       "      <th>5</th>\n",
       "      <td>19</td>\n",
       "      <td>Male</td>\n",
       "      <td>Black</td>\n",
       "      <td>June</td>\n",
       "      <td>10</td>\n",
       "      <td>2015</td>\n",
       "      <td>New York</td>\n",
       "      <td>NY</td>\n",
       "      <td>Gunshot</td>\n",
       "      <td>New York Police Department</td>\n",
       "      <td>Firearm</td>\n",
       "    </tr>\n",
       "    <tr>\n",
       "      <th>6</th>\n",
       "      <td>58</td>\n",
       "      <td>Male</td>\n",
       "      <td>White</td>\n",
       "      <td>June</td>\n",
       "      <td>18</td>\n",
       "      <td>2015</td>\n",
       "      <td>New York</td>\n",
       "      <td>NY</td>\n",
       "      <td>Gunshot</td>\n",
       "      <td>New York Police Department</td>\n",
       "      <td>Knife</td>\n",
       "    </tr>\n",
       "    <tr>\n",
       "      <th>7</th>\n",
       "      <td>38</td>\n",
       "      <td>Male</td>\n",
       "      <td>Black</td>\n",
       "      <td>August</td>\n",
       "      <td>14</td>\n",
       "      <td>2015</td>\n",
       "      <td>New York</td>\n",
       "      <td>NY</td>\n",
       "      <td>Gunshot</td>\n",
       "      <td>New York Police Department</td>\n",
       "      <td>Firearm</td>\n",
       "    </tr>\n",
       "    <tr>\n",
       "      <th>8</th>\n",
       "      <td>61</td>\n",
       "      <td>Male</td>\n",
       "      <td>Black</td>\n",
       "      <td>August</td>\n",
       "      <td>28</td>\n",
       "      <td>2015</td>\n",
       "      <td>Mount Vernon</td>\n",
       "      <td>NY</td>\n",
       "      <td>Gunshot</td>\n",
       "      <td>New York Police Department</td>\n",
       "      <td>No</td>\n",
       "    </tr>\n",
       "    <tr>\n",
       "      <th>9</th>\n",
       "      <td>36</td>\n",
       "      <td>Male</td>\n",
       "      <td>Black</td>\n",
       "      <td>December</td>\n",
       "      <td>8</td>\n",
       "      <td>2015</td>\n",
       "      <td>Yonkers</td>\n",
       "      <td>NY</td>\n",
       "      <td>Gunshot</td>\n",
       "      <td>New York Police Department</td>\n",
       "      <td>No</td>\n",
       "    </tr>\n",
       "    <tr>\n",
       "      <th>10</th>\n",
       "      <td>55</td>\n",
       "      <td>Male</td>\n",
       "      <td>Hispanic/Latino</td>\n",
       "      <td>March</td>\n",
       "      <td>16</td>\n",
       "      <td>2016</td>\n",
       "      <td>New York</td>\n",
       "      <td>NY</td>\n",
       "      <td>Death in custody</td>\n",
       "      <td>New York Police Department</td>\n",
       "      <td>No</td>\n",
       "    </tr>\n",
       "    <tr>\n",
       "      <th>11</th>\n",
       "      <td>32</td>\n",
       "      <td>Male</td>\n",
       "      <td>Black</td>\n",
       "      <td>April</td>\n",
       "      <td>17</td>\n",
       "      <td>2016</td>\n",
       "      <td>South Ozone Park</td>\n",
       "      <td>NY</td>\n",
       "      <td>Gunshot</td>\n",
       "      <td>New York Police Department</td>\n",
       "      <td>Firearm</td>\n",
       "    </tr>\n",
       "    <tr>\n",
       "      <th>12</th>\n",
       "      <td>25</td>\n",
       "      <td>Male</td>\n",
       "      <td>Black</td>\n",
       "      <td>June</td>\n",
       "      <td>19</td>\n",
       "      <td>2016</td>\n",
       "      <td>Bronx</td>\n",
       "      <td>NY</td>\n",
       "      <td>Gunshot</td>\n",
       "      <td>New York Police Department</td>\n",
       "      <td>Firearm</td>\n",
       "    </tr>\n",
       "    <tr>\n",
       "      <th>13</th>\n",
       "      <td>37</td>\n",
       "      <td>Male</td>\n",
       "      <td>Black</td>\n",
       "      <td>July</td>\n",
       "      <td>4</td>\n",
       "      <td>2016</td>\n",
       "      <td>Brooklyn</td>\n",
       "      <td>NY</td>\n",
       "      <td>Gunshot</td>\n",
       "      <td>New York Police Department</td>\n",
       "      <td>No</td>\n",
       "    </tr>\n",
       "    <tr>\n",
       "      <th>14</th>\n",
       "      <td>39</td>\n",
       "      <td>Male</td>\n",
       "      <td>Black</td>\n",
       "      <td>July</td>\n",
       "      <td>11</td>\n",
       "      <td>2016</td>\n",
       "      <td>Brooklyn</td>\n",
       "      <td>NY</td>\n",
       "      <td>Gunshot</td>\n",
       "      <td>New York Police Department</td>\n",
       "      <td>Firearm</td>\n",
       "    </tr>\n",
       "    <tr>\n",
       "      <th>15</th>\n",
       "      <td>42</td>\n",
       "      <td>Male</td>\n",
       "      <td>Black</td>\n",
       "      <td>July</td>\n",
       "      <td>17</td>\n",
       "      <td>2016</td>\n",
       "      <td>Brooklyn</td>\n",
       "      <td>NY</td>\n",
       "      <td>Gunshot</td>\n",
       "      <td>New York Police Department</td>\n",
       "      <td>Firearm</td>\n",
       "    </tr>\n",
       "    <tr>\n",
       "      <th>16</th>\n",
       "      <td>21</td>\n",
       "      <td>Male</td>\n",
       "      <td>Hispanic/Latino</td>\n",
       "      <td>July</td>\n",
       "      <td>17</td>\n",
       "      <td>2016</td>\n",
       "      <td>Brooklyn</td>\n",
       "      <td>NY</td>\n",
       "      <td>Struck by vehicle</td>\n",
       "      <td>New York Police Department</td>\n",
       "      <td>No</td>\n",
       "    </tr>\n",
       "    <tr>\n",
       "      <th>17</th>\n",
       "      <td>66</td>\n",
       "      <td>Female</td>\n",
       "      <td>Black</td>\n",
       "      <td>October</td>\n",
       "      <td>18</td>\n",
       "      <td>2016</td>\n",
       "      <td>Bronx</td>\n",
       "      <td>NY</td>\n",
       "      <td>Gunshot</td>\n",
       "      <td>New York Police Department</td>\n",
       "      <td>Other</td>\n",
       "    </tr>\n",
       "    <tr>\n",
       "      <th>18</th>\n",
       "      <td>21</td>\n",
       "      <td>Male</td>\n",
       "      <td>Black</td>\n",
       "      <td>November</td>\n",
       "      <td>19</td>\n",
       "      <td>2016</td>\n",
       "      <td>Brooklyn</td>\n",
       "      <td>NY</td>\n",
       "      <td>Gunshot</td>\n",
       "      <td>New York Police Department</td>\n",
       "      <td>Other</td>\n",
       "    </tr>\n",
       "  </tbody>\n",
       "</table>\n",
       "</div>"
      ],
      "text/plain": [
       "   age  gender    raceethnicity     month  day  year              city state  \\\n",
       "0   30    Male            White     April   22  2015          New York    NY   \n",
       "1   24    Male            Black     April   25  2015          New York    NY   \n",
       "2   40    Male  Hispanic/Latino       May   15  2015          New York    NY   \n",
       "3   51    Male            Black       May   26  2015          New York    NY   \n",
       "4   51    Male  Hispanic/Latino      June    8  2015          New York    NY   \n",
       "5   19    Male            Black      June   10  2015          New York    NY   \n",
       "6   58    Male            White      June   18  2015          New York    NY   \n",
       "7   38    Male            Black    August   14  2015          New York    NY   \n",
       "8   61    Male            Black    August   28  2015      Mount Vernon    NY   \n",
       "9   36    Male            Black  December    8  2015           Yonkers    NY   \n",
       "10  55    Male  Hispanic/Latino     March   16  2016          New York    NY   \n",
       "11  32    Male            Black     April   17  2016  South Ozone Park    NY   \n",
       "12  25    Male            Black      June   19  2016             Bronx    NY   \n",
       "13  37    Male            Black      July    4  2016          Brooklyn    NY   \n",
       "14  39    Male            Black      July   11  2016          Brooklyn    NY   \n",
       "15  42    Male            Black      July   17  2016          Brooklyn    NY   \n",
       "16  21    Male  Hispanic/Latino      July   17  2016          Brooklyn    NY   \n",
       "17  66  Female            Black   October   18  2016             Bronx    NY   \n",
       "18  21    Male            Black  November   19  2016          Brooklyn    NY   \n",
       "\n",
       "       classification        lawenforcementagency    armed  \n",
       "0             Gunshot  New York Police Department  Firearm  \n",
       "1             Gunshot  New York Police Department       No  \n",
       "2    Death in custody  New York Police Department       No  \n",
       "3             Gunshot  New York Police Department  Firearm  \n",
       "4               Taser  New York Police Department    Other  \n",
       "5             Gunshot  New York Police Department  Firearm  \n",
       "6             Gunshot  New York Police Department    Knife  \n",
       "7             Gunshot  New York Police Department  Firearm  \n",
       "8             Gunshot  New York Police Department       No  \n",
       "9             Gunshot  New York Police Department       No  \n",
       "10   Death in custody  New York Police Department       No  \n",
       "11            Gunshot  New York Police Department  Firearm  \n",
       "12            Gunshot  New York Police Department  Firearm  \n",
       "13            Gunshot  New York Police Department       No  \n",
       "14            Gunshot  New York Police Department  Firearm  \n",
       "15            Gunshot  New York Police Department  Firearm  \n",
       "16  Struck by vehicle  New York Police Department       No  \n",
       "17            Gunshot  New York Police Department    Other  \n",
       "18            Gunshot  New York Police Department    Other  "
      ]
     },
     "execution_count": 30,
     "metadata": {},
     "output_type": "execute_result"
    }
   ],
   "source": [
    "rf"
   ]
  },
  {
   "cell_type": "code",
   "execution_count": 31,
   "metadata": {},
   "outputs": [
    {
     "data": {
      "text/plain": [
       "Black              13\n",
       "Hispanic/Latino     4\n",
       "White               2\n",
       "Name: raceethnicity, dtype: int64"
      ]
     },
     "execution_count": 31,
     "metadata": {},
     "output_type": "execute_result"
    }
   ],
   "source": [
    "rf['raceethnicity'].value_counts()"
   ]
  },
  {
   "cell_type": "code",
   "execution_count": 32,
   "metadata": {},
   "outputs": [
    {
     "data": {
      "text/plain": [
       "Black              0.684211\n",
       "Hispanic/Latino    0.210526\n",
       "White              0.105263\n",
       "Name: raceethnicity, dtype: float64"
      ]
     },
     "execution_count": 32,
     "metadata": {},
     "output_type": "execute_result"
    }
   ],
   "source": [
    "rf['raceethnicity'].value_counts(normalize=True)"
   ]
  },
  {
   "cell_type": "code",
   "execution_count": 33,
   "metadata": {},
   "outputs": [
    {
     "data": {
      "text/plain": [
       "<matplotlib.axes._subplots.AxesSubplot at 0x2d0be3d780>"
      ]
     },
     "execution_count": 33,
     "metadata": {},
     "output_type": "execute_result"
    },
    {
     "data": {
      "image/png": "[encoded data removed]",
      "text/plain": [
       "<matplotlib.figure.Figure at 0x2d0c1dc048>"
      ]
     },
     "metadata": {},
     "output_type": "display_data"
    }
   ],
   "source": [
    "sns.countplot(rf['raceethnicity'])"
   ]
  },
  {
   "cell_type": "markdown",
   "metadata": {},
   "source": [
    "Results: \n",
    "\n",
    "Fatal Shootings by NYPD: 10% white, 68% black, 20% hispanic\n",
    "\n",
    "Fatal Shootings in NY: 40% white, 48% black, 8% hispanic\n",
    "\n",
    "Fatal Shootings in US: 51% white, 27% black, 17% hispanic \n",
    "\n",
    "Let's see how this compares to the population numbers"
   ]
  },
  {
   "cell_type": "code",
   "execution_count": 34,
   "metadata": {
    "collapsed": true
   },
   "outputs": [],
   "source": [
    "# Population percentages from 2010 US Census Data\n",
    "\n",
    "# white, black, hispanic = [45,25,28] (NYC)\n",
    "# white, black, hispanic = [69.9,17.7,19] (NY)\n",
    "# white, black, hispanic = [72.4,12.6,16.3] (US)"
   ]
  },
  {
   "cell_type": "markdown",
   "metadata": {},
   "source": [
    "Poverty Numbers"
   ]
  },
  {
   "cell_type": "code",
   "execution_count": 35,
   "metadata": {
    "collapsed": true
   },
   "outputs": [],
   "source": [
    "#ny poverty numbers by race in 2016 \n",
    "# source: https://www.kff.org/other/state-indicator/poverty-rate-by-raceethnicity/?currentTimeframe=0&sortModel=%7B%22colId%22:%22Location%22,%22sort%22:%22asc%22%7D\n",
    "# Poverty rate for the population as a whole is 12.7%\n",
    "\n",
    "# white,black,hispanic = [13.3,21.2,24.6] (NYC)   [higher threshold for poverty from nycGOV]\n",
    "# white,black,hispanic = [8,17,19] (NY)\n",
    "# white,black,hispanic = [9,22,20] (US) "
   ]
  }
 ],
 "metadata": {
  "kernelspec": {
   "display_name": "Python 3",
   "language": "python",
   "name": "python3"
  },
  "language_info": {
   "codemirror_mode": {
    "name": "ipython",
    "version": 3
   },
   "file_extension": ".py",
   "mimetype": "text/x-python",
   "name": "python",
   "nbconvert_exporter": "python",
   "pygments_lexer": "ipython3",
   "version": "3.5.2"
  }
 },
 "nbformat": 4,
 "nbformat_minor": 2
}
